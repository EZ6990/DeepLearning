{
  "nbformat": 4,
  "nbformat_minor": 0,
  "metadata": {
    "colab": {
      "name": "KaggleHomeDepot.ipynb",
      "provenance": [],
      "collapsed_sections": [],
      "include_colab_link": true
    },
    "kernelspec": {
      "name": "python3",
      "display_name": "Python 3"
    },
    "accelerator": "GPU"
  },
  "cells": [
    {
      "cell_type": "markdown",
      "metadata": {
        "id": "view-in-github",
        "colab_type": "text"
      },
      "source": [
        "<a href=\"https://colab.research.google.com/github/EZ6990/DeepLearning/blob/master/KaggleHomeDepot.ipynb\" target=\"_parent\"><img src=\"https://colab.research.google.com/assets/colab-badge.svg\" alt=\"Open In Colab\"/></a>"
      ]
    },
    {
      "cell_type": "code",
      "metadata": {
        "id": "HcWETgmj4eMF",
        "colab_type": "code",
        "colab": {}
      },
      "source": [
        "!mkdir .kaggle\n",
        "import json\n",
        "token = {\"username\":\"bgudltaldanny\",\"key\":\"65b62f1a36c14c834b4e88037463a4f8\"}\n",
        "with open('.kaggle/kaggle.json', 'w') as file:\n",
        "    json.dump(token, file)"
      ],
      "execution_count": 0,
      "outputs": []
    },
    {
      "cell_type": "code",
      "metadata": {
        "id": "oJ1YdBKItNir",
        "colab_type": "code",
        "outputId": "a87c2125-04dc-4b54-a77c-dd027c668a22",
        "colab": {
          "base_uri": "https://localhost:8080/",
          "height": 34
        }
      },
      "source": [
        "!pip uninstall -y kaggle\n",
        "!pip install --upgrade pip\n",
        "!pip install kaggle==1.5.6\n",
        "\n",
        "!touch ~/.kaggle/kaggle.json\n",
        "!ls -la ~/.kaggle/kaggle.json\n",
        "!cp .kaggle/kaggle.json ~/.kaggle/kaggle.json\n",
        "!chmod 600 ~/.kaggle/kaggle.json"
      ],
      "execution_count": 6,
      "outputs": [
        {
          "output_type": "stream",
          "text": [
            "-rw-r--r-- 1 root root 0 Feb  8 21:39 /root/.kaggle/kaggle.json\n"
          ],
          "name": "stdout"
        }
      ]
    },
    {
      "cell_type": "code",
      "metadata": {
        "id": "QKXPhN_vv3hJ",
        "colab_type": "code",
        "outputId": "55e880be-4669-4921-eda4-918b784ddc6a",
        "colab": {
          "base_uri": "https://localhost:8080/",
          "height": 255
        }
      },
      "source": [
        "!kaggle competitions download -c home-depot-product-search-relevance\n",
        "!unzip home-depot-product-search-relevance.zip -d home-depot-product-search-relevance/\n",
        "!unzip home-depot-product-search-relevance/train.csv.zip -d home-depot-product-search-relevance/\n",
        "!unzip home-depot-product-search-relevance/test.csv.zip -d home-depot-product-search-relevance/"
      ],
      "execution_count": 7,
      "outputs": [
        {
          "output_type": "stream",
          "text": [
            "Downloading home-depot-product-search-relevance.zip to /content\n",
            " 94% 65.0M/69.4M [00:01<00:00, 25.0MB/s]\n",
            "100% 69.4M/69.4M [00:01<00:00, 42.6MB/s]\n",
            "Archive:  home-depot-product-search-relevance.zip\n",
            "  inflating: home-depot-product-search-relevance/attributes.csv.zip  \n",
            "  inflating: home-depot-product-search-relevance/product_descriptions.csv.zip  \n",
            "  inflating: home-depot-product-search-relevance/relevance_instructions.docx  \n",
            "  inflating: home-depot-product-search-relevance/sample_submission.csv.zip  \n",
            "  inflating: home-depot-product-search-relevance/test.csv.zip  \n",
            "  inflating: home-depot-product-search-relevance/train.csv.zip  \n",
            "Archive:  home-depot-product-search-relevance/train.csv.zip\n",
            "  inflating: home-depot-product-search-relevance/train.csv  \n",
            "Archive:  home-depot-product-search-relevance/test.csv.zip\n",
            "  inflating: home-depot-product-search-relevance/test.csv  \n"
          ],
          "name": "stdout"
        }
      ]
    },
    {
      "cell_type": "code",
      "metadata": {
        "id": "3r10iXLp-DFP",
        "colab_type": "code",
        "colab": {
          "base_uri": "https://localhost:8080/",
          "height": 80
        },
        "outputId": "aaa1c963-5d45-486a-a42f-7902b1633a1c"
      },
      "source": [
        "import pandas as pd\n",
        "import numpy as np\n",
        "import math\n",
        "import tensorflow as tf\n",
        "from keras.utils import Sequence\n",
        "from keras.models import Model\n",
        "from keras.layers import Input, Flatten, Dense, Dropout,Conv1D, MaxPool1D,Concatenate, LSTM, Reshape, CuDNNLSTM, Embedding, BatchNormalization,Activation\n",
        "from keras.optimizers import RMSprop\n",
        "import keras.backend as K\n",
        "from sklearn.pipeline import Pipeline,FeatureUnion,make_pipeline\n",
        "from sklearn.preprocessing import FunctionTransformer,KBinsDiscretizer,OneHotEncoder\n",
        "from sklearn.linear_model import LogisticRegression,LinearRegression\n",
        "from sklearn.model_selection import train_test_split, cross_val_score,cross_val_predict,cross_validate\n",
        "from sklearn.feature_extraction.text import TfidfVectorizer, CountVectorizer,TfidfTransformer\n",
        "from sklearn.neighbors import KNeighborsRegressor\n",
        "from sklearn.ensemble import RandomForestRegressor\n",
        "from keras.regularizers import l2\n",
        "from scipy import spatial\n",
        "\n",
        "import matplotlib.pyplot as plt\n"
      ],
      "execution_count": 8,
      "outputs": [
        {
          "output_type": "display_data",
          "data": {
            "text/html": [
              "<p style=\"color: red;\">\n",
              "The default version of TensorFlow in Colab will soon switch to TensorFlow 2.x.<br>\n",
              "We recommend you <a href=\"https://www.tensorflow.org/guide/migrate\" target=\"_blank\">upgrade</a> now \n",
              "or ensure your notebook will continue to use TensorFlow 1.x via the <code>%tensorflow_version 1.x</code> magic:\n",
              "<a href=\"https://colab.research.google.com/notebooks/tensorflow_version.ipynb\" target=\"_blank\">more info</a>.</p>\n"
            ],
            "text/plain": [
              "<IPython.core.display.HTML object>"
            ]
          },
          "metadata": {
            "tags": []
          }
        },
        {
          "output_type": "stream",
          "text": [
            "Using TensorFlow backend.\n"
          ],
          "name": "stderr"
        }
      ]
    },
    {
      "cell_type": "code",
      "metadata": {
        "id": "kaItXIaqBPac",
        "colab_type": "code",
        "colab": {}
      },
      "source": [
        "path='./home-depot-product-search-relevance'\n",
        "train=pd.read_csv(path+'/train.csv',encoding=\"Latin-1\")"
      ],
      "execution_count": 0,
      "outputs": []
    },
    {
      "cell_type": "code",
      "metadata": {
        "id": "kzljXWXRFTQg",
        "colab_type": "code",
        "outputId": "596fe899-e955-4a92-8afd-cb09ee77d01c",
        "colab": {
          "base_uri": "https://localhost:8080/",
          "height": 204
        }
      },
      "source": [
        "train.head()\n",
        "train['norm_relevance'] = (train['relevance'] - 1) / 2\n",
        "train.head()"
      ],
      "execution_count": 10,
      "outputs": [
        {
          "output_type": "execute_result",
          "data": {
            "text/html": [
              "<div>\n",
              "<style scoped>\n",
              "    .dataframe tbody tr th:only-of-type {\n",
              "        vertical-align: middle;\n",
              "    }\n",
              "\n",
              "    .dataframe tbody tr th {\n",
              "        vertical-align: top;\n",
              "    }\n",
              "\n",
              "    .dataframe thead th {\n",
              "        text-align: right;\n",
              "    }\n",
              "</style>\n",
              "<table border=\"1\" class=\"dataframe\">\n",
              "  <thead>\n",
              "    <tr style=\"text-align: right;\">\n",
              "      <th></th>\n",
              "      <th>id</th>\n",
              "      <th>product_uid</th>\n",
              "      <th>product_title</th>\n",
              "      <th>search_term</th>\n",
              "      <th>relevance</th>\n",
              "      <th>norm_relevance</th>\n",
              "    </tr>\n",
              "  </thead>\n",
              "  <tbody>\n",
              "    <tr>\n",
              "      <th>0</th>\n",
              "      <td>2</td>\n",
              "      <td>100001</td>\n",
              "      <td>Simpson Strong-Tie 12-Gauge Angle</td>\n",
              "      <td>angle bracket</td>\n",
              "      <td>3.00</td>\n",
              "      <td>1.000</td>\n",
              "    </tr>\n",
              "    <tr>\n",
              "      <th>1</th>\n",
              "      <td>3</td>\n",
              "      <td>100001</td>\n",
              "      <td>Simpson Strong-Tie 12-Gauge Angle</td>\n",
              "      <td>l bracket</td>\n",
              "      <td>2.50</td>\n",
              "      <td>0.750</td>\n",
              "    </tr>\n",
              "    <tr>\n",
              "      <th>2</th>\n",
              "      <td>9</td>\n",
              "      <td>100002</td>\n",
              "      <td>BEHR Premium Textured DeckOver 1-gal. #SC-141 ...</td>\n",
              "      <td>deck over</td>\n",
              "      <td>3.00</td>\n",
              "      <td>1.000</td>\n",
              "    </tr>\n",
              "    <tr>\n",
              "      <th>3</th>\n",
              "      <td>16</td>\n",
              "      <td>100005</td>\n",
              "      <td>Delta Vero 1-Handle Shower Only Faucet Trim Ki...</td>\n",
              "      <td>rain shower head</td>\n",
              "      <td>2.33</td>\n",
              "      <td>0.665</td>\n",
              "    </tr>\n",
              "    <tr>\n",
              "      <th>4</th>\n",
              "      <td>17</td>\n",
              "      <td>100005</td>\n",
              "      <td>Delta Vero 1-Handle Shower Only Faucet Trim Ki...</td>\n",
              "      <td>shower only faucet</td>\n",
              "      <td>2.67</td>\n",
              "      <td>0.835</td>\n",
              "    </tr>\n",
              "  </tbody>\n",
              "</table>\n",
              "</div>"
            ],
            "text/plain": [
              "   id  product_uid  ... relevance norm_relevance\n",
              "0   2       100001  ...      3.00          1.000\n",
              "1   3       100001  ...      2.50          0.750\n",
              "2   9       100002  ...      3.00          1.000\n",
              "3  16       100005  ...      2.33          0.665\n",
              "4  17       100005  ...      2.67          0.835\n",
              "\n",
              "[5 rows x 6 columns]"
            ]
          },
          "metadata": {
            "tags": []
          },
          "execution_count": 10
        }
      ]
    },
    {
      "cell_type": "code",
      "metadata": {
        "id": "6kb-qaGVCa32",
        "colab_type": "code",
        "colab": {}
      },
      "source": [
        "max_product_title_len=train.product_title.map(lambda x: len(x)).max()\n",
        "max_search_term=train.search_term.map(lambda x: len(x)).max()\n",
        "max_input_len=max(max_product_title_len,max_search_term)"
      ],
      "execution_count": 0,
      "outputs": []
    },
    {
      "cell_type": "code",
      "metadata": {
        "id": "ku4yaaZ0BmjY",
        "colab_type": "code",
        "colab": {}
      },
      "source": [
        "class MyCharGenerator(Sequence):\n",
        "  def __init__(self,padding,df,batch_size=32,char_value=0):\n",
        "    self.padding=padding\n",
        "    self.char_value=char_value\n",
        "    self.df=df\n",
        "    self.batch_size=batch_size\n",
        "\n",
        "\n",
        "  def __iter__(self):\n",
        "    while(True):\n",
        "      X1 = []\n",
        "      X2 = []\n",
        "      y = []\n",
        "\n",
        "      for index,row in self.df.iterrows():\n",
        "        y.append(row['norm_relevance'])\n",
        "        st_list= [ord(c) for c in list(row['search_term'])]\n",
        "        pt_list=[ord(c) for c in list(row['product_title'])]\n",
        "        #X1.append(np.pad(st_list,(0,self.padding-len(st_list))))\n",
        "        #X2.append(np.pad(pt_list,(0,self.padding-len(pt_list))))\n",
        "        X1.append(np.reshape(np.pad(st_list,(0,self.padding-len(st_list))),(147,1)))\n",
        "        X2.append(np.reshape(np.pad(pt_list,(0,self.padding-len(pt_list))),(147,1)))\n",
        "        # assume there's one document per line, tokens separated by whitespace\n",
        "        if (index + 1) % self.batch_size == 0:\n",
        "          y=np.array(y)\n",
        "\n",
        "          yield (np.array([X1,X2]),y)\n",
        "          X1 = []\n",
        "          X2 = []\n",
        "          y=[]\n",
        "\n",
        "      y=np.array(y)\n",
        "      if(len(y) > 0):\n",
        "        yield np.array([X1,X2]),y\n"
      ],
      "execution_count": 0,
      "outputs": []
    },
    {
      "cell_type": "code",
      "metadata": {
        "id": "yB5rXmhpzU-F",
        "colab_type": "code",
        "colab": {}
      },
      "source": [
        "class MyWordGenerator(Sequence):\n",
        "  def __init__(self,padding,df,batch_size=32,char_value=0):\n",
        "    self.padding=padding\n",
        "    self.df=df\n",
        "    self.batch_size=batch_size\n",
        "    self.words_dictonary = {}\n",
        "\n",
        "\n",
        "  def __iter__(self):\n",
        "    while(True):\n",
        "      X1 = []\n",
        "      X2 = []\n",
        "      y = []\n",
        "\n",
        "      for index,row in self.df.iterrows():\n",
        "        y.append(row['norm_relevance'])\n",
        "        st_list = []\n",
        "        for word in row['search_term'].split(' '):\n",
        "          if not (word in self.words_dictonary):\n",
        "            self.words_dictonary[word] = len(self.words_dictonary)\n",
        "          st_list.append(self.words_dictonary[word])\n",
        "            \n",
        "        pt_list = []\n",
        "        for word in row['product_title'].split(' '):\n",
        "          if not (word in self.words_dictonary):\n",
        "            self.words_dictonary[word] = len(self.words_dictonary)\n",
        "          pt_list.append(self.words_dictonary[word])\n",
        "\n",
        "        X1.append(np.reshape(np.pad(st_list,(0,self.padding-len(st_list))),(self.padding,1)))\n",
        "        X2.append(np.reshape(np.pad(pt_list,(0,self.padding-len(pt_list))),(self.padding,1)))\n",
        "        # assume there's one document per line, tokens separated by whitespace\n",
        "        if (index + 1) % self.batch_size == 0:\n",
        "          y=np.array(y)\n",
        "\n",
        "          yield (np.array([X1,X2]),y)\n",
        "          X1 = []\n",
        "          X2 = []\n",
        "          y=[]\n",
        "\n",
        "      y=np.array(y)\n",
        "      if(len(y) > 0):\n",
        "        yield np.array([X1,X2]),y\n",
        "\n",
        "\n",
        "def rmse(y_true, y_pred):\n",
        "  return K.sqrt(K.mean(K.square(y_pred - y_true), axis=-1)) \n",
        "\n",
        "def our_mse(y_true, y_pred):\n",
        "  return K.mean(K.square(y_pred - y_true), axis=-1)\n",
        "\n",
        "loss_index = 0\n",
        "def new_loss(y_actual,y_predicted):\n",
        "  global loss_index\n",
        "  global y_train\n",
        "  global X1_train\n",
        "  global X2_train\n",
        "\n",
        "  cosine_loss = tf.keras.losses.CosineSimilarity(axis=1)\n",
        "  loss = tf.constant(0.0)\n",
        "  m = tf.constant(-0.00015)\n",
        "  x = tf.constant(0.0)\n",
        "  K.switch(tf.constant(y_train[x]))\n",
        "  loss = tf.add(loss,tf.subtract(tf.constant(1.0),\n",
        "                                  cosine_loss(np.float32(X1_train[loss_index+i]),np.float32(X2_train[loss_index+i]))))\n",
        "  loss_index+=32\n",
        "  with open('log.log', 'a') as file:\n",
        "    json.dump(loss_index, file)\n",
        "  tf.Print(loss,[loss],(\"%s\" %loss_index))\n",
        "  #return tf.add(K.sum(tf.multiply(tf.constant(0.0),y_predicted)),loss)\n",
        "  return cosine_loss(y_actual,y_predicted)\n",
        "\n",
        "# siames_model=network(max_input_len)\n",
        "# siames_model.summary()\n",
        "# siames_model.compile(loss=new_loss ,optimizer='adam',metrics=['mae','accuracy'])\n",
        "# model_hist = siames_model.fit([X1_train,X2_train],y_train,verbose=2,epochs=3,batch_size=32,validation_data=([X1_test,X2_test],y_test))\n"
      ],
      "execution_count": 0,
      "outputs": []
    },
    {
      "cell_type": "markdown",
      "metadata": {
        "id": "lgJHyxB1WavM",
        "colab_type": "text"
      },
      "source": [
        "## Siamese network from the article"
      ]
    },
    {
      "cell_type": "code",
      "metadata": {
        "id": "OeiZtPowPSYF",
        "colab_type": "code",
        "colab": {}
      },
      "source": [
        "def network(n_fetures,n_described=1):\n",
        "  inp=Input(shape=(n_fetures,n_described))\n",
        "  x = CuDNNLSTM(n_fetures)(inp)\n",
        "  x = Reshape((n_fetures,1))(x)\n",
        "  x=Conv1D(filters=32,kernel_size=10,activation='relu')(x)\n",
        "  x=MaxPool1D()(x)\n",
        "  x=Conv1D(filters=64,kernel_size=10,activation='relu')(x)\n",
        "  x=MaxPool1D()(x)\n",
        "  x=Conv1D(filters=128,kernel_size=10,activation='relu')(x)\n",
        "  x=Flatten()(x)\n",
        "  x=Dense(128,activation='relu')(x)\n",
        "  model= Model(inp,x)\n",
        "\n",
        "  search_term_input=Input(shape=(n_fetures,n_described),name='inp1')\n",
        "  product_title_input=Input(shape=(n_fetures,n_described),name='inp2')\n",
        "\n",
        "  search_term_encoded=model(search_term_input)\n",
        "  product_title_encoded=model(product_title_input)\n",
        "\n",
        "\n",
        "  x_connected=Concatenate()([search_term_encoded,product_title_encoded])\n",
        "  x_connected=Dense(1,activation='sigmoid')(x_connected)\n",
        "  \n",
        "  \n",
        "  connected_model=Model(inputs=[search_term_input,product_title_input],output=x_connected)\n",
        "  connected_model.summary()\n",
        "\n",
        "  return connected_model\n"
      ],
      "execution_count": 0,
      "outputs": []
    },
    {
      "cell_type": "markdown",
      "metadata": {
        "id": "A_q1vOykW3iM",
        "colab_type": "text"
      },
      "source": [
        "## Prepare the data"
      ]
    },
    {
      "cell_type": "code",
      "metadata": {
        "id": "TmViaexjMFqX",
        "colab_type": "code",
        "colab": {}
      },
      "source": [
        "myGen=MyCharGenerator(padding=147,df=train,batch_size=1)\n",
        "it = iter(myGen)\n",
        "\n",
        "X1 = []\n",
        "X2 = []\n",
        "Y = []\n",
        "for time in range(len(train)):\n",
        "  [X1_gen,X2_gen],y_gen = next(it)\n",
        "  X1.append([X for X in X1_gen[0]])\n",
        "  X2.append([X for X in X2_gen[0]])\n",
        "  Y.append(y_gen[0])\n",
        "\n",
        "X1_train,X1_test,X2_train,X2_test,y_train,y_test = train_test_split(X1,X2,Y,test_size=0.2)\n",
        "\n",
        "X1_train = np.array(X1_train)\n",
        "X2_train = np.array(X2_train)\n",
        "y_train = np.array(y_train)\n",
        "X1_test = np.array(X1_test)\n",
        "X2_test = np.array(X2_test)\n",
        "y_test = np.array(y_test)\n"
      ],
      "execution_count": 0,
      "outputs": []
    },
    {
      "cell_type": "markdown",
      "metadata": {
        "id": "XgImHPQTXVTH",
        "colab_type": "text"
      },
      "source": [
        "##Character level LSTM"
      ]
    },
    {
      "cell_type": "code",
      "metadata": {
        "id": "1UW61vXdshpw",
        "colab_type": "code",
        "colab": {
          "base_uri": "https://localhost:8080/",
          "height": 564
        },
        "outputId": "2f964f57-cbb1-4a52-a439-b72163beaa8a"
      },
      "source": [
        "siames_model=network(max_input_len)\n",
        "# siames_model.summary()\n",
        "siames_model.compile(loss=our_mse ,optimizer='adam',metrics=['mae','accuracy',rmse])"
      ],
      "execution_count": 16,
      "outputs": [
        {
          "output_type": "stream",
          "text": [
            "WARNING:tensorflow:From /usr/local/lib/python3.6/dist-packages/keras/backend/tensorflow_backend.py:66: The name tf.get_default_graph is deprecated. Please use tf.compat.v1.get_default_graph instead.\n",
            "\n",
            "WARNING:tensorflow:From /usr/local/lib/python3.6/dist-packages/keras/backend/tensorflow_backend.py:541: The name tf.placeholder is deprecated. Please use tf.compat.v1.placeholder instead.\n",
            "\n",
            "WARNING:tensorflow:From /usr/local/lib/python3.6/dist-packages/keras/backend/tensorflow_backend.py:4432: The name tf.random_uniform is deprecated. Please use tf.random.uniform instead.\n",
            "\n",
            "WARNING:tensorflow:From /usr/local/lib/python3.6/dist-packages/keras/backend/tensorflow_backend.py:4267: The name tf.nn.max_pool is deprecated. Please use tf.nn.max_pool2d instead.\n",
            "\n",
            "Model: \"model_2\"\n",
            "__________________________________________________________________________________________________\n",
            "Layer (type)                    Output Shape         Param #     Connected to                     \n",
            "==================================================================================================\n",
            "inp1 (InputLayer)               (None, 147, 1)       0                                            \n",
            "__________________________________________________________________________________________________\n",
            "inp2 (InputLayer)               (None, 147, 1)       0                                            \n",
            "__________________________________________________________________________________________________\n",
            "model_1 (Model)                 (None, 128)          535336      inp1[0][0]                       \n",
            "                                                                 inp2[0][0]                       \n",
            "__________________________________________________________________________________________________\n",
            "concatenate_1 (Concatenate)     (None, 256)          0           model_1[1][0]                    \n",
            "                                                                 model_1[2][0]                    \n",
            "__________________________________________________________________________________________________\n",
            "dense_2 (Dense)                 (None, 1)            257         concatenate_1[0][0]              \n",
            "==================================================================================================\n",
            "Total params: 535,593\n",
            "Trainable params: 535,593\n",
            "Non-trainable params: 0\n",
            "__________________________________________________________________________________________________\n",
            "WARNING:tensorflow:From /usr/local/lib/python3.6/dist-packages/keras/optimizers.py:793: The name tf.train.Optimizer is deprecated. Please use tf.compat.v1.train.Optimizer instead.\n",
            "\n"
          ],
          "name": "stdout"
        },
        {
          "output_type": "stream",
          "text": [
            "/usr/local/lib/python3.6/dist-packages/ipykernel_launcher.py:25: UserWarning: Update your `Model` call to the Keras 2 API: `Model(inputs=[<tf.Tenso..., outputs=Tensor(\"de...)`\n"
          ],
          "name": "stderr"
        }
      ]
    },
    {
      "cell_type": "code",
      "metadata": {
        "id": "b1J12Mt37hMd",
        "colab_type": "code",
        "outputId": "069edd87-8756-4b81-cb3b-b3146c7a8b58",
        "colab": {
          "base_uri": "https://localhost:8080/",
          "height": 496
        }
      },
      "source": [
        "model_hist = siames_model.fit([X1_train,X2_train],y_train,verbose=2,epochs=5,batch_size=20,validation_data=([X1_test,X2_test],y_test))"
      ],
      "execution_count": 17,
      "outputs": [
        {
          "output_type": "stream",
          "text": [
            "WARNING:tensorflow:From /usr/local/lib/python3.6/dist-packages/keras/backend/tensorflow_backend.py:1033: The name tf.assign_add is deprecated. Please use tf.compat.v1.assign_add instead.\n",
            "\n",
            "WARNING:tensorflow:From /usr/local/lib/python3.6/dist-packages/keras/backend/tensorflow_backend.py:1020: The name tf.assign is deprecated. Please use tf.compat.v1.assign instead.\n",
            "\n",
            "WARNING:tensorflow:From /usr/local/lib/python3.6/dist-packages/keras/backend/tensorflow_backend.py:3005: The name tf.Session is deprecated. Please use tf.compat.v1.Session instead.\n",
            "\n",
            "Train on 59253 samples, validate on 14814 samples\n",
            "Epoch 1/5\n",
            "WARNING:tensorflow:From /usr/local/lib/python3.6/dist-packages/keras/backend/tensorflow_backend.py:190: The name tf.get_default_session is deprecated. Please use tf.compat.v1.get_default_session instead.\n",
            "\n",
            "WARNING:tensorflow:From /usr/local/lib/python3.6/dist-packages/keras/backend/tensorflow_backend.py:197: The name tf.ConfigProto is deprecated. Please use tf.compat.v1.ConfigProto instead.\n",
            "\n",
            "WARNING:tensorflow:From /usr/local/lib/python3.6/dist-packages/keras/backend/tensorflow_backend.py:207: The name tf.global_variables is deprecated. Please use tf.compat.v1.global_variables instead.\n",
            "\n",
            "WARNING:tensorflow:From /usr/local/lib/python3.6/dist-packages/keras/backend/tensorflow_backend.py:216: The name tf.is_variable_initialized is deprecated. Please use tf.compat.v1.is_variable_initialized instead.\n",
            "\n",
            "WARNING:tensorflow:From /usr/local/lib/python3.6/dist-packages/keras/backend/tensorflow_backend.py:223: The name tf.variables_initializer is deprecated. Please use tf.compat.v1.variables_initializer instead.\n",
            "\n",
            " - 70s - loss: 0.0719 - mean_absolute_error: 0.2198 - acc: 0.2585 - rmse: 0.2198 - val_loss: 0.0714 - val_mean_absolute_error: 0.2179 - val_acc: 0.2570 - val_rmse: 0.2179\n",
            "Epoch 2/5\n",
            " - 54s - loss: 0.0715 - mean_absolute_error: 0.2190 - acc: 0.2585 - rmse: 0.2190 - val_loss: 0.0715 - val_mean_absolute_error: 0.2201 - val_acc: 0.2570 - val_rmse: 0.2201\n",
            "Epoch 3/5\n",
            " - 53s - loss: 0.0714 - mean_absolute_error: 0.2189 - acc: 0.2585 - rmse: 0.2189 - val_loss: 0.0713 - val_mean_absolute_error: 0.2181 - val_acc: 0.2570 - val_rmse: 0.2181\n",
            "Epoch 4/5\n",
            " - 53s - loss: 0.0715 - mean_absolute_error: 0.2191 - acc: 0.2585 - rmse: 0.2191 - val_loss: 0.0717 - val_mean_absolute_error: 0.2204 - val_acc: 0.2570 - val_rmse: 0.2204\n",
            "Epoch 5/5\n",
            " - 53s - loss: 0.0714 - mean_absolute_error: 0.2190 - acc: 0.2585 - rmse: 0.2190 - val_loss: 0.0710 - val_mean_absolute_error: 0.2190 - val_acc: 0.2570 - val_rmse: 0.2190\n"
          ],
          "name": "stdout"
        }
      ]
    },
    {
      "cell_type": "code",
      "metadata": {
        "id": "N27vSKUD0koO",
        "colab_type": "code",
        "outputId": "621956e0-badc-4e0a-d650-7eaf2eec4fbb",
        "colab": {
          "base_uri": "https://localhost:8080/",
          "height": 530
        }
      },
      "source": [
        "fig, ax = plt.subplots(1,1,figsize=(20,8))\n",
        "ax.plot(model_hist.history['acc'])\n",
        "ax.plot(model_hist.history['val_acc'])\n",
        "ax.set_title('Model accuracy')\n",
        "ax.set_ylabel('Accuracy')\n",
        "ax.set_xlabel('Epoch')\n",
        "ax.legend(['Train', 'Test'], loc='upper left')"
      ],
      "execution_count": 18,
      "outputs": [
        {
          "output_type": "execute_result",
          "data": {
            "text/plain": [
              "<matplotlib.legend.Legend at 0x7f0642cab438>"
            ]
          },
          "metadata": {
            "tags": []
          },
          "execution_count": 18
        },
        {
          "output_type": "display_data",
          "data": {
            "image/png": "[encoded data removed]",
            "text/plain": [
              "<Figure size 1440x576 with 1 Axes>"
            ]
          },
          "metadata": {
            "tags": []
          }
        }
      ]
    },
    {
      "cell_type": "markdown",
      "metadata": {
        "id": "AaRYVrWjXdk0",
        "colab_type": "text"
      },
      "source": [
        "##Naive model- Vectorizer"
      ]
    },
    {
      "cell_type": "code",
      "metadata": {
        "id": "3x2RcIqjAXQP",
        "colab_type": "code",
        "outputId": "d4dcbfcf-a9aa-4957-8e25-bbef73116b88",
        "colab": {
          "base_uri": "https://localhost:8080/",
          "height": 51
        }
      },
      "source": [
        "def get_query(X):\n",
        "  return pd.DataFrame(X,columns=['query','title'])['query'].values\n",
        "def get_title(X):\n",
        "  return pd.DataFrame(X,columns=['query','title'])['title'].values\n",
        "\n",
        "Naive_X = []\n",
        "Naive_Y = []\n",
        "\n",
        "for index,row in train.iterrows():\n",
        "  Naive_Y.append(row['relevance'])\n",
        "  Naive_X.append([''.join(list(row['search_term'])),''.join(list(row['product_title']))])\n",
        "\n",
        "X_naive_train,X_naive_test,y_naive_train,y_naive_test = train_test_split(Naive_X,Naive_Y,test_size=0.2)\n",
        "\n",
        "pipeline = Pipeline(\n",
        "    [\n",
        "     ('fetures',\n",
        "         FeatureUnion(\n",
        "             [\n",
        "                 ('later',\n",
        "                  Pipeline(\n",
        "                      [\n",
        "                          ('query',FunctionTransformer(get_query)),\n",
        "                          ('vect', CountVectorizer(stop_words=[' '], max_df=0.5, max_features=5000,lowercase=False,analyzer='char'))\n",
        "                      ]\n",
        "                  )),\n",
        "                 ('bins',\n",
        "                  Pipeline(\n",
        "                      [\n",
        "                       ('title',FunctionTransformer(get_title)),\n",
        "                       ('vect', CountVectorizer(stop_words=[' '], max_df=0.5, max_features=5000,lowercase=False,analyzer='char'))\n",
        "                      ]\n",
        "                  )\n",
        "                 )\n",
        "             ]\n",
        "         )\n",
        "      ),\n",
        "     ('clf', LinearRegression()),\n",
        "    ]\n",
        ")\n",
        "naive_model = cross_validate(pipeline, X_naive_train, y_naive_train, cv=5,return_estimator=True,return_train_score=True,scoring='neg_mean_squared_error')\n",
        "best_estimator = np.argmax(naive_model['test_score'])\n",
        "predictions = naive_model['estimator'][best_estimator].predict(X_naive_test)\n",
        "mae = np.absolute((np.array(y_naive_test)-np.array(predictions))).mean()\n",
        "\n",
        "\n",
        "rmse = math.sqrt(((np.array(y_naive_test)-np.array(predictions))**2).mean())\n",
        "print(\"MAE: %.3f\" %mae)\n",
        "print(\"RMSE: %.3f\" %rmse)"
      ],
      "execution_count": 19,
      "outputs": [
        {
          "output_type": "stream",
          "text": [
            "MAE: 0.435\n",
            "RMSE: 0.531\n"
          ],
          "name": "stdout"
        }
      ]
    },
    {
      "cell_type": "code",
      "metadata": {
        "id": "g8zhgtKJr4X4",
        "colab_type": "code",
        "outputId": "ddb97762-9efa-4f3a-dcb0-55c4049effed",
        "colab": {
          "base_uri": "https://localhost:8080/",
          "height": 530
        }
      },
      "source": [
        "fig, ax = plt.subplots(1,1,figsize=(20,8))\n",
        "ax.plot(-naive_model['train_score'])\n",
        "ax.plot(-naive_model['test_score'])\n",
        "ax.set_title('Model accuracy')\n",
        "ax.set_ylabel('Accuracy')\n",
        "ax.set_xlabel('Epoch')\n",
        "ax.legend(['Train', 'Test'], loc='upper left')"
      ],
      "execution_count": 20,
      "outputs": [
        {
          "output_type": "execute_result",
          "data": {
            "text/plain": [
              "<matplotlib.legend.Legend at 0x7f061a4b7e80>"
            ]
          },
          "metadata": {
            "tags": []
          },
          "execution_count": 20
        },
        {
          "output_type": "display_data",
          "data": {
            "image/png": "[encoded data removed]",
            "text/plain": [
              "<Figure size 1440x576 with 1 Axes>"
            ]
          },
          "metadata": {
            "tags": []
          }
        }
      ]
    },
    {
      "cell_type": "markdown",
      "metadata": {
        "id": "0dBhImHDXtZR",
        "colab_type": "text"
      },
      "source": [
        "##Transfer Learning to classical ML"
      ]
    },
    {
      "cell_type": "code",
      "metadata": {
        "id": "LJkyvr0ndy-D",
        "colab_type": "code",
        "outputId": "63379809-81c9-4c33-f4ea-bc01d7db0f06",
        "colab": {
          "base_uri": "https://localhost:8080/",
          "height": 357
        }
      },
      "source": [
        "%%time\n",
        "\n",
        "siames_model_ML = Model(siames_model.input,siames_model.layers[-2].output)\n",
        "siames_model_ML.compile(loss='mse',optimizer='SGD')\n",
        "siames_model_ML.summary()\n",
        "\n",
        "\n",
        "ml_predictions_train = siames_model_ML.predict([X1_train,X2_train])\n",
        "ml_predictions_test = siames_model_ML.predict([X1_test,X2_test])\n"
      ],
      "execution_count": 21,
      "outputs": [
        {
          "output_type": "stream",
          "text": [
            "Model: \"model_3\"\n",
            "__________________________________________________________________________________________________\n",
            "Layer (type)                    Output Shape         Param #     Connected to                     \n",
            "==================================================================================================\n",
            "inp1 (InputLayer)               (None, 147, 1)       0                                            \n",
            "__________________________________________________________________________________________________\n",
            "inp2 (InputLayer)               (None, 147, 1)       0                                            \n",
            "__________________________________________________________________________________________________\n",
            "model_1 (Model)                 (None, 128)          535336      inp1[0][0]                       \n",
            "                                                                 inp2[0][0]                       \n",
            "__________________________________________________________________________________________________\n",
            "concatenate_1 (Concatenate)     (None, 256)          0           model_1[1][0]                    \n",
            "                                                                 model_1[2][0]                    \n",
            "==================================================================================================\n",
            "Total params: 535,336\n",
            "Trainable params: 535,336\n",
            "Non-trainable params: 0\n",
            "__________________________________________________________________________________________________\n",
            "CPU times: user 17.2 s, sys: 949 ms, total: 18.1 s\n",
            "Wall time: 15 s\n"
          ],
          "name": "stdout"
        }
      ]
    },
    {
      "cell_type": "markdown",
      "metadata": {
        "id": "qqU1nw_8YAxg",
        "colab_type": "text"
      },
      "source": [
        "##KNN"
      ]
    },
    {
      "cell_type": "code",
      "metadata": {
        "id": "hqKhxc5p7R_C",
        "colab_type": "code",
        "outputId": "26ebd0bf-4848-4f79-fe74-919bd09d8ea1",
        "colab": {
          "base_uri": "https://localhost:8080/",
          "height": 85
        }
      },
      "source": [
        "%%time\n",
        "\n",
        "ml_knn_model = KNeighborsRegressor(n_jobs=16,weights='distance',algorithm='ball_tree',n_neighbors=3)\n",
        "ml_knn_estimators = cross_validate(ml_knn_model, ml_predictions_train, y_train*2+1, cv=5,return_estimator=True,return_train_score=True,scoring='neg_mean_squared_error')\n",
        "best_estimator = np.argmax(ml_knn_estimators['test_score'])\n",
        "ml_knn_predictions = ml_knn_estimators['estimator'][best_estimator].predict(ml_predictions_test)\n",
        "\n",
        "y_t=np.array(y_test)*2+1\n",
        "mae_knn = np.absolute((y_t-np.array(ml_knn_predictions))).mean()\n",
        "rmse_knn = math.sqrt(((y_t-np.array(ml_knn_predictions))**2).mean())\n",
        "\n",
        "print(\"KNN MAE: %.3f\" %mae_knn)\n",
        "print(\"KNN RMSE: %.3f\" %rmse_knn)\n"
      ],
      "execution_count": 22,
      "outputs": [
        {
          "output_type": "stream",
          "text": [
            "KNN MAE: 0.491\n",
            "KNN RMSE: 0.617\n",
            "CPU times: user 27 s, sys: 1.88 s, total: 28.9 s\n",
            "Wall time: 3min 55s\n"
          ],
          "name": "stdout"
        }
      ]
    },
    {
      "cell_type": "code",
      "metadata": {
        "id": "_B43um8EGjPq",
        "colab_type": "code",
        "outputId": "c65bb3fd-d863-4956-ccca-353d831ba858",
        "colab": {
          "base_uri": "https://localhost:8080/",
          "height": 530
        }
      },
      "source": [
        "fig, ax = plt.subplots(1,1,figsize=(20,8))\n",
        "ax.plot(-ml_knn_estimators['train_score'])\n",
        "ax.plot(-ml_knn_estimators['test_score'])\n",
        "ax.set_title('Model accuracy')\n",
        "ax.set_ylabel('Accuracy')\n",
        "ax.set_xlabel('Epoch')\n",
        "ax.legend(['Train', 'Test'], loc='upper left')"
      ],
      "execution_count": 23,
      "outputs": [
        {
          "output_type": "execute_result",
          "data": {
            "text/plain": [
              "<matplotlib.legend.Legend at 0x7f061a35d208>"
            ]
          },
          "metadata": {
            "tags": []
          },
          "execution_count": 23
        },
        {
          "output_type": "display_data",
          "data": {
            "image/png": "[encoded data removed]",
            "text/plain": [
              "<Figure size 1440x576 with 1 Axes>"
            ]
          },
          "metadata": {
            "tags": []
          }
        }
      ]
    },
    {
      "cell_type": "markdown",
      "metadata": {
        "id": "93F0kvjPYDY4",
        "colab_type": "text"
      },
      "source": [
        "##Random forest"
      ]
    },
    {
      "cell_type": "code",
      "metadata": {
        "id": "Y_xPOgCx7zx7",
        "colab_type": "code",
        "outputId": "7d95b4b7-355d-4723-94a3-80741cadedcb",
        "colab": {
          "base_uri": "https://localhost:8080/",
          "height": 85
        }
      },
      "source": [
        "%%time\n",
        "\n",
        "ml_rf_model = RandomForestRegressor(n_jobs=16,min_samples_leaf=2, max_depth =3,n_estimators=5)\n",
        "ml_rf_estimators = cross_validate(ml_rf_model, ml_predictions_train, y_train*2+1, cv=5,return_estimator=True,return_train_score=True,scoring='neg_mean_squared_error')\n",
        "best_estimator = np.argmax(ml_rf_estimators['test_score'])\n",
        "ml_rf_predictions = ml_rf_estimators['estimator'][best_estimator].predict(ml_predictions_test)\n",
        "\n",
        "y_t_rf=y_test*2+1\n",
        "\n",
        "mae_rf = np.absolute((np.array(y_t_rf)-np.array(ml_rf_predictions*2+1))).mean()\n",
        "rmse_rf = math.sqrt(((np.array(y_t_rf)-np.array(ml_rf_predictions*2+1))**2).mean())\n",
        "\n",
        "\n",
        "print(\"RANDOM MAE: %.3f\" %mae_rf)\n",
        "print(\"RANDOM RMSE: %.3f\" %rmse_rf)"
      ],
      "execution_count": 24,
      "outputs": [
        {
          "output_type": "stream",
          "text": [
            "RANDOM MAE: 3.380\n",
            "RANDOM RMSE: 3.421\n",
            "CPU times: user 488 ms, sys: 127 ms, total: 616 ms\n",
            "Wall time: 4.83 s\n"
          ],
          "name": "stdout"
        }
      ]
    },
    {
      "cell_type": "code",
      "metadata": {
        "id": "7PenqOjWIF_V",
        "colab_type": "code",
        "outputId": "11be94f7-1890-4b44-d175-0e3e4fb7037e",
        "colab": {
          "base_uri": "https://localhost:8080/",
          "height": 530
        }
      },
      "source": [
        "fig, ax = plt.subplots(1,1,figsize=(20,8))\n",
        "ax.plot(-ml_rf_estimators['train_score'])\n",
        "ax.plot(-ml_rf_estimators['test_score'])\n",
        "ax.set_title('Model accuracy')\n",
        "ax.set_ylabel('Accuracy')\n",
        "ax.set_xlabel('Epoch')\n",
        "ax.legend(['Train', 'Test'], loc='upper left')"
      ],
      "execution_count": 25,
      "outputs": [
        {
          "output_type": "execute_result",
          "data": {
            "text/plain": [
              "<matplotlib.legend.Legend at 0x7f0642cca080>"
            ]
          },
          "metadata": {
            "tags": []
          },
          "execution_count": 25
        },
        {
          "output_type": "display_data",
          "data": {
            "image/png": "[encoded data removed]",
            "text/plain": [
              "<Figure size 1440x576 with 1 Axes>"
            ]
          },
          "metadata": {
            "tags": []
          }
        }
      ]
    },
    {
      "cell_type": "markdown",
      "metadata": {
        "id": "eH7hO98KaTqr",
        "colab_type": "text"
      },
      "source": [
        "We explored the data and decided we need to do some preprocessing\n",
        "\n",
        "we found some examples for words that ment the same thing but were wrote differently.\n",
        "\n",
        "for example in the 'product title' column there is no 'inches' there is 'in.'\n",
        "but in the 'search term' there is 'inches'"
      ]
    },
    {
      "cell_type": "code",
      "metadata": {
        "id": "4s1DYXGkZDFZ",
        "colab_type": "code",
        "outputId": "13de74d9-2b15-44c0-c641-6c02b7857b51",
        "colab": {
          "base_uri": "https://localhost:8080/",
          "height": 321
        }
      },
      "source": [
        " print ('\\'product_titles\\' contains \\'inches\\'')\n",
        " display(train.loc[train['product_title'].str.contains(' inches ')])\n",
        " print ('\\n\\n\\n\\'search_terms\\' contains \\'inches\\'')\n",
        " display(train.loc[train['search_term'].str.contains(' inches ')].head(5))"
      ],
      "execution_count": 26,
      "outputs": [
        {
          "output_type": "stream",
          "text": [
            "'product_titles' contains 'inches'\n"
          ],
          "name": "stdout"
        },
        {
          "output_type": "display_data",
          "data": {
            "text/html": [
              "<div>\n",
              "<style scoped>\n",
              "    .dataframe tbody tr th:only-of-type {\n",
              "        vertical-align: middle;\n",
              "    }\n",
              "\n",
              "    .dataframe tbody tr th {\n",
              "        vertical-align: top;\n",
              "    }\n",
              "\n",
              "    .dataframe thead th {\n",
              "        text-align: right;\n",
              "    }\n",
              "</style>\n",
              "<table border=\"1\" class=\"dataframe\">\n",
              "  <thead>\n",
              "    <tr style=\"text-align: right;\">\n",
              "      <th></th>\n",
              "      <th>id</th>\n",
              "      <th>product_uid</th>\n",
              "      <th>product_title</th>\n",
              "      <th>search_term</th>\n",
              "      <th>relevance</th>\n",
              "      <th>norm_relevance</th>\n",
              "    </tr>\n",
              "  </thead>\n",
              "  <tbody>\n",
              "  </tbody>\n",
              "</table>\n",
              "</div>"
            ],
            "text/plain": [
              "Empty DataFrame\n",
              "Columns: [id, product_uid, product_title, search_term, relevance, norm_relevance]\n",
              "Index: []"
            ]
          },
          "metadata": {
            "tags": []
          }
        },
        {
          "output_type": "stream",
          "text": [
            "\n",
            "\n",
            "\n",
            "'search_terms' contains 'inches'\n"
          ],
          "name": "stdout"
        },
        {
          "output_type": "display_data",
          "data": {
            "text/html": [
              "<div>\n",
              "<style scoped>\n",
              "    .dataframe tbody tr th:only-of-type {\n",
              "        vertical-align: middle;\n",
              "    }\n",
              "\n",
              "    .dataframe tbody tr th {\n",
              "        vertical-align: top;\n",
              "    }\n",
              "\n",
              "    .dataframe thead th {\n",
              "        text-align: right;\n",
              "    }\n",
              "</style>\n",
              "<table border=\"1\" class=\"dataframe\">\n",
              "  <thead>\n",
              "    <tr style=\"text-align: right;\">\n",
              "      <th></th>\n",
              "      <th>id</th>\n",
              "      <th>product_uid</th>\n",
              "      <th>product_title</th>\n",
              "      <th>search_term</th>\n",
              "      <th>relevance</th>\n",
              "      <th>norm_relevance</th>\n",
              "    </tr>\n",
              "  </thead>\n",
              "  <tbody>\n",
              "    <tr>\n",
              "      <th>4015</th>\n",
              "      <td>12507</td>\n",
              "      <td>102193</td>\n",
              "      <td>Samsung 28.15 cu. ft. 4-Door French Door Refri...</td>\n",
              "      <td>33 inches wide samsung</td>\n",
              "      <td>2.67</td>\n",
              "      <td>0.835</td>\n",
              "    </tr>\n",
              "    <tr>\n",
              "      <th>13646</th>\n",
              "      <td>42206</td>\n",
              "      <td>110179</td>\n",
              "      <td>JELD-WEN Smooth 4-Panel Primed Molded Interior...</td>\n",
              "      <td>interior doors 82 inches in length</td>\n",
              "      <td>2.33</td>\n",
              "      <td>0.665</td>\n",
              "    </tr>\n",
              "    <tr>\n",
              "      <th>14917</th>\n",
              "      <td>46069</td>\n",
              "      <td>111389</td>\n",
              "      <td>Paslode 3 in. x 0.131-Gauge 30å¡ Brite Smooth ...</td>\n",
              "      <td>3 .5 inches paper tape collated</td>\n",
              "      <td>2.00</td>\n",
              "      <td>0.500</td>\n",
              "    </tr>\n",
              "    <tr>\n",
              "      <th>15609</th>\n",
              "      <td>48121</td>\n",
              "      <td>112069</td>\n",
              "      <td>Roberts Laminate Cutter for Cross Cutting up t...</td>\n",
              "      <td>metric to inches converter</td>\n",
              "      <td>1.67</td>\n",
              "      <td>0.335</td>\n",
              "    </tr>\n",
              "    <tr>\n",
              "      <th>17099</th>\n",
              "      <td>52792</td>\n",
              "      <td>113648</td>\n",
              "      <td>Masonite 30 in. x 80 in. Textured 6-Panel Holl...</td>\n",
              "      <td>interior doors 82 inches in length</td>\n",
              "      <td>2.67</td>\n",
              "      <td>0.835</td>\n",
              "    </tr>\n",
              "  </tbody>\n",
              "</table>\n",
              "</div>"
            ],
            "text/plain": [
              "          id  product_uid  ... relevance norm_relevance\n",
              "4015   12507       102193  ...      2.67          0.835\n",
              "13646  42206       110179  ...      2.33          0.665\n",
              "14917  46069       111389  ...      2.00          0.500\n",
              "15609  48121       112069  ...      1.67          0.335\n",
              "17099  52792       113648  ...      2.67          0.835\n",
              "\n",
              "[5 rows x 6 columns]"
            ]
          },
          "metadata": {
            "tags": []
          }
        }
      ]
    },
    {
      "cell_type": "code",
      "metadata": {
        "id": "g0-tgTBOiUBI",
        "colab_type": "code",
        "colab": {}
      },
      "source": [
        "import re\n",
        "def preprocess_sentences(s):\n",
        "  s = s.lower()\n",
        "  s = re.sub(r\"(\\d+)'\",r'\\1in.',s)\n",
        "  s = s.replace(\"inches\",\"in.\") \n",
        "  s = s.replace(\"inch\",\"in.\")\n",
        "  s = s.replace(\" in \",\"in. \") \n",
        "  s = s.replace(\" in.\",\"in.\") \n",
        "\n",
        "  s = s.replace(\"''\",\"ft.\") \n",
        "  s = s.replace(\" feet \",\"ft. \") \n",
        "  s = s.replace(\"feet\",\"ft.\") \n",
        "  s = s.replace(\"foot\",\"ft.\") \n",
        "  s = s.replace(\" ft \",\"ft. \") \n",
        "  s = s.replace(\" ft.\",\"ft.\") \n",
        "\n",
        "  s = s.replace(\" pounds \",\"lb. \")\n",
        "  s = s.replace(\" pound \",\"lb. \") \n",
        "  s = s.replace(\"pound\",\"lb.\") \n",
        "  s = s.replace(\" lb \",\"lb. \") \n",
        "  s = s.replace(\" lb.\",\"lb.\") \n",
        "  s = s.replace(\" lbs \",\"lb. \") \n",
        "  s = s.replace(\"lbs.\",\"lb.\") \n",
        "\n",
        "  s = s.replace(\" x \",\" xby \")\n",
        "  s = s.replace(\"*\",\" xby \")\n",
        "  s = s.replace(\" by \",\" xby\")\n",
        "  s = s.replace(\"x0\",\" xby 0\")\n",
        "  s = s.replace(\"x1\",\" xby 1\")\n",
        "  s = s.replace(\"x2\",\" xby 2\")\n",
        "  s = s.replace(\"x3\",\" xby 3\")\n",
        "  s = s.replace(\"x4\",\" xby 4\")\n",
        "  s = s.replace(\"x5\",\" xby 5\")\n",
        "  s = s.replace(\"x6\",\" xby 6\")\n",
        "  s = s.replace(\"x7\",\" xby 7\")\n",
        "  s = s.replace(\"x8\",\" xby 8\")\n",
        "  s = s.replace(\"x9\",\" xby 9\")\n",
        "  s = s.replace(\"0x\",\"0 xby \")\n",
        "  s = s.replace(\"1x\",\"1 xby \")\n",
        "  s = s.replace(\"2x\",\"2 xby \")\n",
        "  s = s.replace(\"3x\",\"3 xby \")\n",
        "  s = s.replace(\"4x\",\"4 xby \")\n",
        "  s = s.replace(\"5x\",\"5 xby \")\n",
        "  s = s.replace(\"6x\",\"6 xby \")\n",
        "  s = s.replace(\"7x\",\"7 xby \")\n",
        "  s = s.replace(\"8x\",\"8 xby \")\n",
        "  s = s.replace(\"9x\",\"9 xby \")\n",
        "\n",
        "  s = s.replace(\" sq ft\",\"sq.ft. \") \n",
        "  s = s.replace(\"sq ft\",\"sq.ft. \")\n",
        "  s = s.replace(\"sqft\",\"sq.ft. \")\n",
        "  s = s.replace(\" sqft \",\"sq.ft. \") \n",
        "  s = s.replace(\"sq. ft\",\"sq.ft. \") \n",
        "  s = s.replace(\"sq ft.\",\"sq.ft. \") \n",
        "  s = s.replace(\"sq feet\",\"sq.ft. \") \n",
        "  s = s.replace(\"square feet\",\"sq.ft. \") \n",
        "\n",
        "  s = s.replace(\" gallons \",\"gal. \") \n",
        "  s = s.replace(\" gallon \",\"gal. \") \n",
        "  s = s.replace(\"gallons\",\"gal.\") \n",
        "  s = s.replace(\"gallon\",\"gal.\") \n",
        "  s = s.replace(\" gal \",\"gal. \") \n",
        "  s = s.replace(\" gal\",\"gal.\") \n",
        "\n",
        "  s = s.replace(\"ounces\",\"oz.\")\n",
        "  s = s.replace(\"ounce\",\"oz.\")\n",
        "  s = s.replace(\" oz.\",\"oz. \")\n",
        "  s = s.replace(\" oz \",\"oz. \")\n",
        "\n",
        "  s = s.replace(\"centimeters\",\"cm.\")    \n",
        "  s = s.replace(\" cm.\",\"cm.\")\n",
        "  s = s.replace(\" cm \",\"cm. \")\n",
        "  \n",
        "  s = s.replace(\"milimeters\",\"mm.\")\n",
        "  s = s.replace(\" mm.\",\"mm.\")\n",
        "  s = s.replace(\" mm \",\"mm. \")\n",
        "  \n",
        "  s = s.replace(\"°\",\"deg. \")\n",
        "  s = s.replace(\"degrees\",\"deg. \")\n",
        "  s = s.replace(\"degree\",\"deg. \")\n",
        "  \n",
        "  s = s.replace(\"volts\",\"volt. \")\n",
        "  s = s.replace(\"volt\",\"volt. \")\n",
        "\n",
        "  s = s.replace(\"watts\",\"watt. \")\n",
        "  s = s.replace(\"watt\",\"watt. \")\n",
        "\n",
        "  return s"
      ],
      "execution_count": 0,
      "outputs": []
    },
    {
      "cell_type": "code",
      "metadata": {
        "id": "VwU0AA9eooKS",
        "colab_type": "code",
        "outputId": "e52b247f-a786-4e31-8dc6-81e272180862",
        "colab": {
          "base_uri": "https://localhost:8080/",
          "height": 445
        }
      },
      "source": [
        "processed_train = train.copy()\n",
        "processed_train['search_term'] = processed_train['search_term'].map(lambda x:preprocess_sentences(x))\n",
        "processed_train['product_title'] = processed_train['product_title'].map(lambda x:preprocess_sentences(x))\n",
        "\n",
        "print ('\\'product_titles\\' contains \\'inches\\'')\n",
        "display(processed_train.loc[processed_train['product_title'].str.contains(' in. ')])\n",
        "print ('\\n\\n\\n\\'search_terms\\' contains \\'inches\\'')\n",
        "display(processed_train.loc[processed_train['search_term'].str.contains(' in. ')].head(5))"
      ],
      "execution_count": 28,
      "outputs": [
        {
          "output_type": "stream",
          "text": [
            "'product_titles' contains 'inches'\n"
          ],
          "name": "stdout"
        },
        {
          "output_type": "display_data",
          "data": {
            "text/html": [
              "<div>\n",
              "<style scoped>\n",
              "    .dataframe tbody tr th:only-of-type {\n",
              "        vertical-align: middle;\n",
              "    }\n",
              "\n",
              "    .dataframe tbody tr th {\n",
              "        vertical-align: top;\n",
              "    }\n",
              "\n",
              "    .dataframe thead th {\n",
              "        text-align: right;\n",
              "    }\n",
              "</style>\n",
              "<table border=\"1\" class=\"dataframe\">\n",
              "  <thead>\n",
              "    <tr style=\"text-align: right;\">\n",
              "      <th></th>\n",
              "      <th>id</th>\n",
              "      <th>product_uid</th>\n",
              "      <th>product_title</th>\n",
              "      <th>search_term</th>\n",
              "      <th>relevance</th>\n",
              "      <th>norm_relevance</th>\n",
              "    </tr>\n",
              "  </thead>\n",
              "  <tbody>\n",
              "    <tr>\n",
              "      <th>18498</th>\n",
              "      <td>57112</td>\n",
              "      <td>115108</td>\n",
              "      <td>ready-strip 32oz.  environmentally friendly dr...</td>\n",
              "      <td>adhesive slide strip</td>\n",
              "      <td>1.67</td>\n",
              "      <td>0.335</td>\n",
              "    </tr>\n",
              "    <tr>\n",
              "      <th>25119</th>\n",
              "      <td>77115</td>\n",
              "      <td>122211</td>\n",
              "      <td>bonded logic inc ultrasonic 12in. xby 12in. ac...</td>\n",
              "      <td>12in. ceiling tile</td>\n",
              "      <td>2.00</td>\n",
              "      <td>0.500</td>\n",
              "    </tr>\n",
              "    <tr>\n",
              "      <th>25120</th>\n",
              "      <td>77121</td>\n",
              "      <td>122211</td>\n",
              "      <td>bonded logic inc ultrasonic 12in. xby 12in. ac...</td>\n",
              "      <td>sound dampening</td>\n",
              "      <td>2.67</td>\n",
              "      <td>0.835</td>\n",
              "    </tr>\n",
              "    <tr>\n",
              "      <th>25121</th>\n",
              "      <td>77123</td>\n",
              "      <td>122211</td>\n",
              "      <td>bonded logic inc ultrasonic 12in. xby 12in. ac...</td>\n",
              "      <td>sounds panels</td>\n",
              "      <td>2.00</td>\n",
              "      <td>0.500</td>\n",
              "    </tr>\n",
              "    <tr>\n",
              "      <th>67581</th>\n",
              "      <td>202995</td>\n",
              "      <td>191353</td>\n",
              "      <td>mohawk home ink swirl cocoa 2ft. xby 8ft. runner</td>\n",
              "      <td>rug ruunners</td>\n",
              "      <td>2.00</td>\n",
              "      <td>0.500</td>\n",
              "    </tr>\n",
              "  </tbody>\n",
              "</table>\n",
              "</div>"
            ],
            "text/plain": [
              "           id  product_uid  ... relevance norm_relevance\n",
              "18498   57112       115108  ...      1.67          0.335\n",
              "25119   77115       122211  ...      2.00          0.500\n",
              "25120   77121       122211  ...      2.67          0.835\n",
              "25121   77123       122211  ...      2.00          0.500\n",
              "67581  202995       191353  ...      2.00          0.500\n",
              "\n",
              "[5 rows x 6 columns]"
            ]
          },
          "metadata": {
            "tags": []
          }
        },
        {
          "output_type": "stream",
          "text": [
            "\n",
            "\n",
            "\n",
            "'search_terms' contains 'inches'\n"
          ],
          "name": "stdout"
        },
        {
          "output_type": "display_data",
          "data": {
            "text/html": [
              "<div>\n",
              "<style scoped>\n",
              "    .dataframe tbody tr th:only-of-type {\n",
              "        vertical-align: middle;\n",
              "    }\n",
              "\n",
              "    .dataframe tbody tr th {\n",
              "        vertical-align: top;\n",
              "    }\n",
              "\n",
              "    .dataframe thead th {\n",
              "        text-align: right;\n",
              "    }\n",
              "</style>\n",
              "<table border=\"1\" class=\"dataframe\">\n",
              "  <thead>\n",
              "    <tr style=\"text-align: right;\">\n",
              "      <th></th>\n",
              "      <th>id</th>\n",
              "      <th>product_uid</th>\n",
              "      <th>product_title</th>\n",
              "      <th>search_term</th>\n",
              "      <th>relevance</th>\n",
              "      <th>norm_relevance</th>\n",
              "    </tr>\n",
              "  </thead>\n",
              "  <tbody>\n",
              "    <tr>\n",
              "      <th>42161</th>\n",
              "      <td>128340</td>\n",
              "      <td>144629</td>\n",
              "      <td>liberty 20in. european self-closing drawer sli...</td>\n",
              "      <td>18.75 in. drawer slides</td>\n",
              "      <td>2.67</td>\n",
              "      <td>0.835</td>\n",
              "    </tr>\n",
              "    <tr>\n",
              "      <th>54368</th>\n",
              "      <td>164835</td>\n",
              "      <td>164764</td>\n",
              "      <td>kaleen matira blue 2ft. xby 3ft. indoor/outdoo...</td>\n",
              "      <td>kaleen rugs, inc matira area rug 3 x</td>\n",
              "      <td>2.00</td>\n",
              "      <td>0.500</td>\n",
              "    </tr>\n",
              "    <tr>\n",
              "      <th>55418</th>\n",
              "      <td>167918</td>\n",
              "      <td>166665</td>\n",
              "      <td>kaleen matira blue 2ft. xby 3ft. indoor/outdoo...</td>\n",
              "      <td>kaleen rugs, inc matira area rug 3 x</td>\n",
              "      <td>3.00</td>\n",
              "      <td>1.000</td>\n",
              "    </tr>\n",
              "    <tr>\n",
              "      <th>60397</th>\n",
              "      <td>182300</td>\n",
              "      <td>176124</td>\n",
              "      <td>kaleen matira blue 3ft. xby 5ft. indoor/outdoo...</td>\n",
              "      <td>kaleen rugs, inc matira area rug 3 x</td>\n",
              "      <td>3.00</td>\n",
              "      <td>1.000</td>\n",
              "    </tr>\n",
              "  </tbody>\n",
              "</table>\n",
              "</div>"
            ],
            "text/plain": [
              "           id  product_uid  ... relevance norm_relevance\n",
              "42161  128340       144629  ...      2.67          0.835\n",
              "54368  164835       164764  ...      2.00          0.500\n",
              "55418  167918       166665  ...      3.00          1.000\n",
              "60397  182300       176124  ...      3.00          1.000\n",
              "\n",
              "[4 rows x 6 columns]"
            ]
          },
          "metadata": {
            "tags": []
          }
        }
      ]
    },
    {
      "cell_type": "markdown",
      "metadata": {
        "id": "4L5yb1DYYOKx",
        "colab_type": "text"
      },
      "source": [
        "##Word level LSTM"
      ]
    },
    {
      "cell_type": "code",
      "metadata": {
        "id": "AxC6_oHYqgFD",
        "colab_type": "code",
        "colab": {}
      },
      "source": [
        "max_product_title_len=processed_train.product_title.map(lambda x: len(x.split(' '))).max()\n",
        "max_search_term=processed_train.search_term.map(lambda x: len(x.split(' '))).max()\n",
        "max_input_len=max(max_product_title_len,max_search_term,70)"
      ],
      "execution_count": 0,
      "outputs": []
    },
    {
      "cell_type": "code",
      "metadata": {
        "id": "OHoxrjE4AAxO",
        "colab_type": "code",
        "colab": {}
      },
      "source": [
        "myGen=MyWordGenerator(padding=max_input_len,df=processed_train,batch_size=1)\n",
        "it = iter(myGen)\n",
        "\n",
        "X1 = []\n",
        "X2 = []\n",
        "Y = []\n",
        "for time in range(len(processed_train)):\n",
        "  [X1_gen,X2_gen],y_gen = next(it)\n",
        "  X1.append([X for X in X1_gen[0]])\n",
        "  X2.append([X for X in X2_gen[0]])\n",
        "  Y.append(y_gen[0])\n",
        "\n",
        "X1_train,X1_test,X2_train,X2_test,y_train,y_test = train_test_split(X1,X2,Y,test_size=0.2)\n",
        "\n",
        "X1_train = np.array(X1_train)\n",
        "X2_train = np.array(X2_train)\n",
        "y_train = np.array(y_train)\n",
        "X1_test = np.array(X1_test)\n",
        "X2_test = np.array(X2_test)\n",
        "y_test = np.array(y_test)\n"
      ],
      "execution_count": 0,
      "outputs": []
    },
    {
      "cell_type": "markdown",
      "metadata": {
        "id": "atm1fdBPYTs7",
        "colab_type": "text"
      },
      "source": [
        "##Embedding Training"
      ]
    },
    {
      "cell_type": "code",
      "metadata": {
        "id": "Ks8aV-82vmUc",
        "colab_type": "code",
        "outputId": "eebb9c8c-46ad-4db2-c0e5-7685fd12a31c",
        "colab": {
          "base_uri": "https://localhost:8080/",
          "height": 921
        }
      },
      "source": [
        "%%time\n",
        "\n",
        "def embedding_input(name, n_in, n_out, reg=1e-4):\n",
        "    inp = Input(shape=(70,1), dtype='int64', name=name)\n",
        "    x = Flatten()(inp)\n",
        "    return inp, Embedding(n_in, n_out, input_length=70, embeddings_regularizer=l2(reg))(x)\n",
        "\n",
        "query_inp,query_emb = embedding_input(\"query\",len(processed_train.search_term.unique()),50)\n",
        "title_inp,title_emb = embedding_input(\"title\",len(processed_train.product_title.unique()),50)\n",
        "x = Concatenate()([query_emb,title_emb])\n",
        "x = Flatten()(x)\n",
        "x= BatchNormalization()(x)\n",
        "# x= Activation('relu')(x)\n",
        "x = Dense(1,activation='relu')(x)\n",
        "embedding_model = Model([query_inp, title_inp], x)\n",
        "embedding_model.compile(optimizer='adam', loss='mae',metrics=['accuracy',rmse,'mae'])\n",
        "embedding_model.summary()\n",
        "\n",
        "\n",
        "embedding_model_hist = embedding_model.fit([X1_train,X2_train], y_train, batch_size=20, epochs=10, \n",
        "          validation_data=([X1_test,X2_test], y_test))"
      ],
      "execution_count": 34,
      "outputs": [
        {
          "output_type": "stream",
          "text": [
            "Model: \"model_6\"\n",
            "__________________________________________________________________________________________________\n",
            "Layer (type)                    Output Shape         Param #     Connected to                     \n",
            "==================================================================================================\n",
            "query (InputLayer)              (None, 70, 1)        0                                            \n",
            "__________________________________________________________________________________________________\n",
            "title (InputLayer)              (None, 70, 1)        0                                            \n",
            "__________________________________________________________________________________________________\n",
            "flatten_8 (Flatten)             (None, 70)           0           query[0][0]                      \n",
            "__________________________________________________________________________________________________\n",
            "flatten_9 (Flatten)             (None, 70)           0           title[0][0]                      \n",
            "__________________________________________________________________________________________________\n",
            "embedding_5 (Embedding)         (None, 70, 50)       589450      flatten_8[0][0]                  \n",
            "__________________________________________________________________________________________________\n",
            "embedding_6 (Embedding)         (None, 70, 50)       2673650     flatten_9[0][0]                  \n",
            "__________________________________________________________________________________________________\n",
            "concatenate_4 (Concatenate)     (None, 70, 100)      0           embedding_5[0][0]                \n",
            "                                                                 embedding_6[0][0]                \n",
            "__________________________________________________________________________________________________\n",
            "flatten_10 (Flatten)            (None, 7000)         0           concatenate_4[0][0]              \n",
            "__________________________________________________________________________________________________\n",
            "batch_normalization_3 (BatchNor (None, 7000)         28000       flatten_10[0][0]                 \n",
            "__________________________________________________________________________________________________\n",
            "dense_5 (Dense)                 (None, 1)            7001        batch_normalization_3[0][0]      \n",
            "==================================================================================================\n",
            "Total params: 3,298,101\n",
            "Trainable params: 3,284,101\n",
            "Non-trainable params: 14,000\n",
            "__________________________________________________________________________________________________\n",
            "Train on 59253 samples, validate on 14814 samples\n",
            "Epoch 1/10\n",
            "59253/59253 [==============================] - 24s 410us/step - loss: 0.2964 - acc: 0.2407 - rmse: 0.2492 - mean_absolute_error: 0.2492 - val_loss: 0.3122 - val_acc: 0.2561 - val_rmse: 0.2468 - val_mean_absolute_error: 0.2468\n",
            "Epoch 2/10\n",
            "59253/59253 [==============================] - 23s 394us/step - loss: 0.2923 - acc: 0.2512 - rmse: 0.2273 - mean_absolute_error: 0.2273 - val_loss: 0.2948 - val_acc: 0.2463 - val_rmse: 0.2324 - val_mean_absolute_error: 0.2324\n",
            "Epoch 3/10\n",
            "59253/59253 [==============================] - 23s 390us/step - loss: 0.2726 - acc: 0.2550 - rmse: 0.2150 - mean_absolute_error: 0.2150 - val_loss: 0.2847 - val_acc: 0.2584 - val_rmse: 0.2316 - val_mean_absolute_error: 0.2316\n",
            "Epoch 4/10\n",
            "59253/59253 [==============================] - 23s 395us/step - loss: 0.2521 - acc: 0.2588 - rmse: 0.2050 - mean_absolute_error: 0.2050 - val_loss: 0.2824 - val_acc: 0.2367 - val_rmse: 0.2417 - val_mean_absolute_error: 0.2417\n",
            "Epoch 5/10\n",
            "59253/59253 [==============================] - 23s 390us/step - loss: 0.2322 - acc: 0.2610 - rmse: 0.1967 - mean_absolute_error: 0.1967 - val_loss: 0.2349 - val_acc: 0.2604 - val_rmse: 0.2045 - val_mean_absolute_error: 0.2045\n",
            "Epoch 6/10\n",
            "59253/59253 [==============================] - 23s 394us/step - loss: 0.2157 - acc: 0.2621 - rmse: 0.1898 - mean_absolute_error: 0.1898 - val_loss: 0.2290 - val_acc: 0.2609 - val_rmse: 0.2070 - val_mean_absolute_error: 0.2070\n",
            "Epoch 7/10\n",
            "59253/59253 [==============================] - 23s 390us/step - loss: 0.2051 - acc: 0.2628 - rmse: 0.1852 - mean_absolute_error: 0.1852 - val_loss: 0.2165 - val_acc: 0.2612 - val_rmse: 0.1988 - val_mean_absolute_error: 0.1988\n",
            "Epoch 8/10\n",
            "59253/59253 [==============================] - 23s 393us/step - loss: 0.1996 - acc: 0.2636 - rmse: 0.1824 - mean_absolute_error: 0.1824 - val_loss: 0.2969 - val_acc: 0.2596 - val_rmse: 0.2808 - val_mean_absolute_error: 0.2808\n",
            "Epoch 9/10\n",
            "59253/59253 [==============================] - 24s 398us/step - loss: 0.1982 - acc: 0.2640 - rmse: 0.1809 - mean_absolute_error: 0.1809 - val_loss: 0.2171 - val_acc: 0.2614 - val_rmse: 0.1990 - val_mean_absolute_error: 0.1990\n",
            "Epoch 10/10\n",
            "59253/59253 [==============================] - 23s 391us/step - loss: 0.1979 - acc: 0.2644 - rmse: 0.1804 - mean_absolute_error: 0.1804 - val_loss: 0.2192 - val_acc: 0.2604 - val_rmse: 0.2019 - val_mean_absolute_error: 0.2019\n",
            "CPU times: user 4min 26s, sys: 44.1 s, total: 5min 10s\n",
            "Wall time: 3min 54s\n"
          ],
          "name": "stdout"
        }
      ]
    },
    {
      "cell_type": "markdown",
      "metadata": {
        "id": "ykLa5zosYZXW",
        "colab_type": "text"
      },
      "source": [
        "## Siamese word LSTM"
      ]
    },
    {
      "cell_type": "code",
      "metadata": {
        "id": "FmaWxLgVDWUU",
        "colab_type": "code",
        "outputId": "f2d05872-abf2-4a1a-abcd-55171394fa1b",
        "colab": {
          "base_uri": "https://localhost:8080/",
          "height": 493
        }
      },
      "source": [
        "inp=Input(shape=(70,50))\n",
        "x = CuDNNLSTM(70)(inp)\n",
        "x = Reshape((70,1))(x)\n",
        "x=Conv1D(filters=32,kernel_size=10,activation='relu')(x)\n",
        "x=MaxPool1D()(x)\n",
        "x=BatchNormalization()(x)\n",
        "x=Activation('tanh')(x)\n",
        "x=Conv1D(filters=64,kernel_size=10,activation='relu')(x)\n",
        "x=MaxPool1D()(x)\n",
        "x=Conv1D(filters=128,kernel_size=10,activation='relu')(x)\n",
        "x=BatchNormalization()(x)\n",
        "x=Activation('tanh')(x)\n",
        "x=Flatten()(x)\n",
        "x=Dense(128,activation='relu')(x)\n",
        "model= Model(inp,x)\n",
        "\n",
        "search_term_encoded=model(query_emb)\n",
        "product_title_encoded=model(title_emb)\n",
        "\n",
        "\n",
        "x_connected=Concatenate()([search_term_encoded,product_title_encoded])\n",
        "x_connected=Dense(1,activation='sigmoid')(x_connected)\n",
        "\n",
        "siames_embedded_model = Model([query_inp,title_inp],x_connected)\n",
        "siames_embedded_model.summary()\n",
        "siames_embedded_model.compile(loss=our_mse ,optimizer='adam',metrics=['mae','accuracy',rmse])"
      ],
      "execution_count": 35,
      "outputs": [
        {
          "output_type": "stream",
          "text": [
            "Model: \"model_8\"\n",
            "__________________________________________________________________________________________________\n",
            "Layer (type)                    Output Shape         Param #     Connected to                     \n",
            "==================================================================================================\n",
            "query (InputLayer)              (None, 70, 1)        0                                            \n",
            "__________________________________________________________________________________________________\n",
            "title (InputLayer)              (None, 70, 1)        0                                            \n",
            "__________________________________________________________________________________________________\n",
            "flatten_8 (Flatten)             (None, 70)           0           query[0][0]                      \n",
            "__________________________________________________________________________________________________\n",
            "flatten_9 (Flatten)             (None, 70)           0           title[0][0]                      \n",
            "__________________________________________________________________________________________________\n",
            "embedding_5 (Embedding)         (None, 70, 50)       589450      flatten_8[0][0]                  \n",
            "__________________________________________________________________________________________________\n",
            "embedding_6 (Embedding)         (None, 70, 50)       2673650     flatten_9[0][0]                  \n",
            "__________________________________________________________________________________________________\n",
            "model_7 (Model)                 (None, 128)          154256      embedding_5[0][0]                \n",
            "                                                                 embedding_6[0][0]                \n",
            "__________________________________________________________________________________________________\n",
            "concatenate_5 (Concatenate)     (None, 256)          0           model_7[1][0]                    \n",
            "                                                                 model_7[2][0]                    \n",
            "__________________________________________________________________________________________________\n",
            "dense_7 (Dense)                 (None, 1)            257         concatenate_5[0][0]              \n",
            "==================================================================================================\n",
            "Total params: 3,417,613\n",
            "Trainable params: 3,417,293\n",
            "Non-trainable params: 320\n",
            "__________________________________________________________________________________________________\n"
          ],
          "name": "stdout"
        }
      ]
    },
    {
      "cell_type": "code",
      "metadata": {
        "id": "aUxb3proDeoy",
        "colab_type": "code",
        "outputId": "ef01660a-d18e-47d4-d5ef-dd292875b47e",
        "colab": {
          "base_uri": "https://localhost:8080/",
          "height": 258
        }
      },
      "source": [
        "%%time\n",
        "word_model_hist = siames_embedded_model.fit([X1_train,X2_train],y_train,verbose=2,epochs=5,batch_size=32,validation_data=([X1_test,X2_test],y_test))"
      ],
      "execution_count": 36,
      "outputs": [
        {
          "output_type": "stream",
          "text": [
            "Train on 59253 samples, validate on 14814 samples\n",
            "Epoch 1/5\n",
            " - 41s - loss: 0.0712 - mean_absolute_error: 0.2111 - acc: 0.2578 - rmse: 0.2111 - val_loss: 0.1095 - val_mean_absolute_error: 0.2481 - val_acc: 0.2593 - val_rmse: 0.2481\n",
            "Epoch 2/5\n",
            " - 39s - loss: 0.0673 - mean_absolute_error: 0.2004 - acc: 0.2593 - rmse: 0.2004 - val_loss: 0.1055 - val_mean_absolute_error: 0.2403 - val_acc: 0.2593 - val_rmse: 0.2403\n",
            "Epoch 3/5\n",
            " - 39s - loss: 0.0651 - mean_absolute_error: 0.1960 - acc: 0.2618 - rmse: 0.1960 - val_loss: 0.0877 - val_mean_absolute_error: 0.2275 - val_acc: 0.2593 - val_rmse: 0.2275\n",
            "Epoch 4/5\n",
            " - 39s - loss: 0.0634 - mean_absolute_error: 0.1923 - acc: 0.2639 - rmse: 0.1923 - val_loss: 0.2314 - val_mean_absolute_error: 0.4190 - val_acc: 0.0284 - val_rmse: 0.4190\n",
            "Epoch 5/5\n",
            " - 39s - loss: 0.0616 - mean_absolute_error: 0.1889 - acc: 0.2654 - rmse: 0.1889 - val_loss: 0.1431 - val_mean_absolute_error: 0.2827 - val_acc: 0.2593 - val_rmse: 0.2827\n",
            "CPU times: user 3min 57s, sys: 19.5 s, total: 4min 17s\n",
            "Wall time: 3min 16s\n"
          ],
          "name": "stdout"
        }
      ]
    },
    {
      "cell_type": "code",
      "metadata": {
        "id": "gnHkeXhJ0TOm",
        "colab_type": "code",
        "colab": {
          "base_uri": "https://localhost:8080/",
          "height": 530
        },
        "outputId": "fd3af3ea-fbe4-4b66-b23d-d2c0369f40ad"
      },
      "source": [
        "fig, ax = plt.subplots(1,1,figsize=(20,8))\n",
        "ax.plot(word_model_hist.history['acc'])\n",
        "ax.plot(word_model_hist.history['val_acc'])\n",
        "ax.set_title('Model accuracy')\n",
        "ax.set_ylabel('Accuracy')\n",
        "ax.set_xlabel('Epoch')\n",
        "ax.legend(['Train', 'Test'], loc='upper left')"
      ],
      "execution_count": 37,
      "outputs": [
        {
          "output_type": "execute_result",
          "data": {
            "text/plain": [
              "<matplotlib.legend.Legend at 0x7f068187cf60>"
            ]
          },
          "metadata": {
            "tags": []
          },
          "execution_count": 37
        },
        {
          "output_type": "display_data",
          "data": {
            "image/png": "[encoded data removed]",
            "text/plain": [
              "<Figure size 1440x576 with 1 Axes>"
            ]
          },
          "metadata": {
            "tags": []
          }
        }
      ]
    },
    {
      "cell_type": "markdown",
      "metadata": {
        "id": "Jaz816zVYfFP",
        "colab_type": "text"
      },
      "source": [
        "## Naive Model- vectorize"
      ]
    },
    {
      "cell_type": "code",
      "metadata": {
        "id": "38OlCiMwDr42",
        "colab_type": "code",
        "outputId": "7d3a999a-94a0-40f2-f83c-9cfda730c5a5",
        "colab": {
          "base_uri": "https://localhost:8080/",
          "height": 51
        }
      },
      "source": [
        "def get_query(X):\n",
        "  return pd.DataFrame(X,columns=['query','title'])['query'].values\n",
        "def get_title(X):\n",
        "  return pd.DataFrame(X,columns=['query','title'])['title'].values\n",
        "\n",
        "Naive_X = []\n",
        "Naive_Y = []\n",
        "for index,row in processed_train.iterrows():\n",
        "  Naive_Y.append(row['relevance'])\n",
        "  Naive_X.append([row['search_term'],row['product_title']])\n",
        "\n",
        "X_naive_train,X_naive_test,y_naive_train,y_naive_test = train_test_split(Naive_X,Naive_Y,test_size=0.2)\n",
        "\n",
        "pipeline = Pipeline(\n",
        "    [\n",
        "     ('fetures',\n",
        "         FeatureUnion(\n",
        "             [\n",
        "                 ('later',\n",
        "                  Pipeline(\n",
        "                      [\n",
        "                          ('query',FunctionTransformer(get_query)),\n",
        "                          ('vect', CountVectorizer(stop_words=[' '], max_df=0.5, max_features=5000,lowercase=False))\n",
        "                      ]\n",
        "                  )),\n",
        "                 ('bins',\n",
        "                  Pipeline(\n",
        "                      [\n",
        "                       ('title',FunctionTransformer(get_title)),\n",
        "                       ('vect', CountVectorizer(stop_words=[' '], max_df=0.5, max_features=5000,lowercase=False))\n",
        "                      ]\n",
        "                  )\n",
        "                 )\n",
        "             ]\n",
        "         )\n",
        "      ),\n",
        "     ('clf', LinearRegression()),\n",
        "    ]\n",
        ")\n",
        "\n",
        "\n",
        "naive_word_model = cross_validate(pipeline, X_naive_train ,y_naive_train, cv=3,return_estimator=True,return_train_score=True,scoring='neg_mean_squared_error')\n",
        "word_best_estimator = np.argmax(naive_word_model['test_score'])\n",
        "predictions = naive_word_model['estimator'][word_best_estimator].predict(X_naive_test)\n",
        "mae = np.absolute((np.array(y_naive_test)-np.array(predictions))).mean()\n",
        "rmse = math.sqrt(((np.array(y_naive_test)-np.array(predictions))**2).mean())\n",
        "print(\"MAE: %.3f\" %mae)\n",
        "print(\"RMSE: %.3f\" %rmse)"
      ],
      "execution_count": 38,
      "outputs": [
        {
          "output_type": "stream",
          "text": [
            "MAE: 0.426\n",
            "RMSE: 0.536\n"
          ],
          "name": "stdout"
        }
      ]
    },
    {
      "cell_type": "code",
      "metadata": {
        "id": "BKO-Oooqzcxw",
        "colab_type": "code",
        "colab": {
          "base_uri": "https://localhost:8080/",
          "height": 530
        },
        "outputId": "b813becc-cfec-42db-c33a-e27513fcf701"
      },
      "source": [
        "fig, ax = plt.subplots(1,1,figsize=(20,8))\n",
        "ax.plot(-naive_word_model['train_score'])\n",
        "ax.plot(-naive_word_model['test_score'])\n",
        "ax.set_title('Model accuracy')\n",
        "ax.set_ylabel('Accuracy')\n",
        "ax.set_xlabel('Epoch')\n",
        "ax.legend(['Train', 'Test'], loc='upper left')"
      ],
      "execution_count": 39,
      "outputs": [
        {
          "output_type": "execute_result",
          "data": {
            "text/plain": [
              "<matplotlib.legend.Legend at 0x7f061ab8bf98>"
            ]
          },
          "metadata": {
            "tags": []
          },
          "execution_count": 39
        },
        {
          "output_type": "display_data",
          "data": {
            "image/png": "[encoded data removed]",
            "text/plain": [
              "<Figure size 1440x576 with 1 Axes>"
            ]
          },
          "metadata": {
            "tags": []
          }
        }
      ]
    },
    {
      "cell_type": "markdown",
      "metadata": {
        "id": "R-jIGqIfYoo7",
        "colab_type": "text"
      },
      "source": [
        "##Transfer Learning to classical ML\n"
      ]
    },
    {
      "cell_type": "code",
      "metadata": {
        "id": "i3xSbRkPDxE8",
        "colab_type": "code",
        "outputId": "0f7a46e5-c81c-4329-b886-da75e9fe2408",
        "colab": {
          "base_uri": "https://localhost:8080/",
          "height": 459
        }
      },
      "source": [
        "\n",
        "siames_word_model_ML = Model(siames_embedded_model.input,siames_embedded_model.layers[-2].output)\n",
        "siames_word_model_ML.compile(optimizer='SGD')\n",
        "siames_word_model_ML.summary()\n",
        "\n",
        "\n",
        "word_ml_predictions_train = siames_word_model_ML.predict([X1_train,X2_train])\n",
        "word_ml_predictions_test = siames_word_model_ML.predict([X1_test,X2_test])\n",
        "\n",
        "\n"
      ],
      "execution_count": 40,
      "outputs": [
        {
          "output_type": "stream",
          "text": [
            "Model: \"model_9\"\n",
            "__________________________________________________________________________________________________\n",
            "Layer (type)                    Output Shape         Param #     Connected to                     \n",
            "==================================================================================================\n",
            "query (InputLayer)              (None, 70, 1)        0                                            \n",
            "__________________________________________________________________________________________________\n",
            "title (InputLayer)              (None, 70, 1)        0                                            \n",
            "__________________________________________________________________________________________________\n",
            "flatten_8 (Flatten)             (None, 70)           0           query[0][0]                      \n",
            "__________________________________________________________________________________________________\n",
            "flatten_9 (Flatten)             (None, 70)           0           title[0][0]                      \n",
            "__________________________________________________________________________________________________\n",
            "embedding_5 (Embedding)         (None, 70, 50)       589450      flatten_8[0][0]                  \n",
            "__________________________________________________________________________________________________\n",
            "embedding_6 (Embedding)         (None, 70, 50)       2673650     flatten_9[0][0]                  \n",
            "__________________________________________________________________________________________________\n",
            "model_7 (Model)                 (None, 128)          154256      embedding_5[0][0]                \n",
            "                                                                 embedding_6[0][0]                \n",
            "__________________________________________________________________________________________________\n",
            "concatenate_5 (Concatenate)     (None, 256)          0           model_7[1][0]                    \n",
            "                                                                 model_7[2][0]                    \n",
            "==================================================================================================\n",
            "Total params: 3,417,356\n",
            "Trainable params: 3,417,036\n",
            "Non-trainable params: 320\n",
            "__________________________________________________________________________________________________\n"
          ],
          "name": "stdout"
        }
      ]
    },
    {
      "cell_type": "markdown",
      "metadata": {
        "id": "-bDJgWM_Yj7s",
        "colab_type": "text"
      },
      "source": [
        "##KNN\n",
        "\n"
      ]
    },
    {
      "cell_type": "code",
      "metadata": {
        "id": "Cuwb4iyb0XNZ",
        "colab_type": "code",
        "outputId": "0399aa94-b89f-41c0-959b-cba006067f08",
        "colab": {
          "base_uri": "https://localhost:8080/",
          "height": 85
        }
      },
      "source": [
        "%%time\n",
        "\n",
        "ml_knn_word_model = KNeighborsRegressor(n_jobs=16,weights='distance',algorithm='ball_tree',n_neighbors=3)\n",
        "ml_knn_word_estimators = cross_validate(ml_knn_word_model, word_ml_predictions_train, y_train*2+1, cv=5,return_estimator=True,return_train_score=True,scoring='neg_mean_squared_error')\n",
        "best_estimator = np.argmax(ml_knn_word_estimators['test_score'])\n",
        "word_ml_knn_predictions = ml_knn_word_estimators['estimator'][best_estimator].predict(word_ml_predictions_test)\n",
        "\n",
        "y_t=np.array(y_test)*2+1\n",
        "\n",
        "word_mae_knn = np.absolute((y_t-np.array(word_ml_knn_predictions))).mean()\n",
        "word_rmse_knn = math.sqrt(((y_t-np.array(word_ml_knn_predictions))**2).mean())\n",
        "\n",
        "\n",
        "print(\"KNN MAE: %.3f\" %word_mae_knn)\n",
        "print(\"KNN RMSE: %.3f\" %word_rmse_knn)\n",
        "\n"
      ],
      "execution_count": 41,
      "outputs": [
        {
          "output_type": "stream",
          "text": [
            "KNN MAE: 0.439\n",
            "KNN RMSE: 0.559\n",
            "CPU times: user 19 s, sys: 1.85 s, total: 20.9 s\n",
            "Wall time: 2min 20s\n"
          ],
          "name": "stdout"
        }
      ]
    },
    {
      "cell_type": "code",
      "metadata": {
        "id": "LE9JFRaxJBT_",
        "colab_type": "code",
        "colab": {
          "base_uri": "https://localhost:8080/",
          "height": 530
        },
        "outputId": "b3309f72-a42f-48a2-ed5a-35000b718d4b"
      },
      "source": [
        "fig, ax = plt.subplots(1,1,figsize=(20,8))\n",
        "ax.plot(-ml_knn_word_estimators['train_score'])\n",
        "ax.plot(-ml_knn_word_estimators['test_score'])\n",
        "ax.set_title('Model accuracy')\n",
        "ax.set_ylabel('Accuracy')\n",
        "ax.set_xlabel('Epoch')\n",
        "ax.legend(['Train', 'Test'], loc='upper left')"
      ],
      "execution_count": 42,
      "outputs": [
        {
          "output_type": "execute_result",
          "data": {
            "text/plain": [
              "<matplotlib.legend.Legend at 0x7f061b13f828>"
            ]
          },
          "metadata": {
            "tags": []
          },
          "execution_count": 42
        },
        {
          "output_type": "display_data",
          "data": {
            "image/png": "[encoded data removed]",
            "text/plain": [
              "<Figure size 1440x576 with 1 Axes>"
            ]
          },
          "metadata": {
            "tags": []
          }
        }
      ]
    },
    {
      "cell_type": "markdown",
      "metadata": {
        "id": "Mh0iN1PDYsnt",
        "colab_type": "text"
      },
      "source": [
        "##Random forest"
      ]
    },
    {
      "cell_type": "code",
      "metadata": {
        "id": "jVidAaHZ0gR8",
        "colab_type": "code",
        "outputId": "f94ba5bb-a26f-4f2f-e660-5487ae20b8d9",
        "colab": {
          "base_uri": "https://localhost:8080/",
          "height": 85
        }
      },
      "source": [
        "%%time\n",
        "\n",
        "ml_rf_word_model = RandomForestRegressor(n_jobs=16,min_samples_leaf=2, max_depth =3,n_estimators=5)\n",
        "ml_rf_word_estimators = cross_validate(ml_rf_word_model, word_ml_predictions_train, y_train*2+1, cv=5,return_estimator=True,return_train_score=True,scoring='neg_mean_squared_error')\n",
        "best_estimator = np.argmax(ml_rf_word_estimators['test_score'])\n",
        "word_ml_rf_predictions = ml_rf_word_estimators['estimator'][best_estimator].predict(word_ml_predictions_test)\n",
        "\n",
        "y_t_rf=y_test*2+1\n",
        "\n",
        "word_mae_rf = np.absolute((y_t_rf-np.array(word_ml_rf_predictions*2+1))).mean()\n",
        "word_rmse_rf = math.sqrt(((y_t_rf-np.array(word_ml_rf_predictions*2+1))**2).mean())\n",
        "\n",
        "print(\"RANDOM MAE: %.3f\" %word_mae_rf)\n",
        "print(\"RANDOM RMSE: %.3f\" %word_rmse_rf)\n"
      ],
      "execution_count": 43,
      "outputs": [
        {
          "output_type": "stream",
          "text": [
            "RANDOM MAE: 3.384\n",
            "RANDOM RMSE: 3.438\n",
            "CPU times: user 530 ms, sys: 132 ms, total: 662 ms\n",
            "Wall time: 28.3 s\n"
          ],
          "name": "stdout"
        }
      ]
    },
    {
      "cell_type": "code",
      "metadata": {
        "id": "4nehQqPmJFr8",
        "colab_type": "code",
        "colab": {
          "base_uri": "https://localhost:8080/",
          "height": 530
        },
        "outputId": "478eaf00-da9d-48d4-b6a1-d68b532da6e9"
      },
      "source": [
        "fig, ax = plt.subplots(1,1,figsize=(20,8))\n",
        "ax.plot(-ml_rf_word_estimators['train_score'])\n",
        "ax.plot(-ml_rf_word_estimators['test_score'])\n",
        "ax.set_title('Model accuracy')\n",
        "ax.set_ylabel('Accuracy')\n",
        "ax.set_xlabel('Epoch')\n",
        "ax.legend(['Train', 'Test'], loc='upper left')"
      ],
      "execution_count": 44,
      "outputs": [
        {
          "output_type": "execute_result",
          "data": {
            "text/plain": [
              "<matplotlib.legend.Legend at 0x7f061a4c28d0>"
            ]
          },
          "metadata": {
            "tags": []
          },
          "execution_count": 44
        },
        {
          "output_type": "display_data",
          "data": {
            "image/png": "[encoded data removed]",
            "text/plain": [
              "<Figure size 1440x576 with 1 Axes>"
            ]
          },
          "metadata": {
            "tags": []
          }
        }
      ]
    }
  ]
}