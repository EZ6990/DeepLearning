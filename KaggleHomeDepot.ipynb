{
  "nbformat": 4,
  "nbformat_minor": 0,
  "metadata": {
    "colab": {
      "name": "KaggleHomeDepot.ipynb",
      "provenance": [],
      "collapsed_sections": []
    },
    "kernelspec": {
      "name": "python3",
      "display_name": "Python 3"
    },
    "accelerator": "GPU"
  },
  "cells": [
    {
      "cell_type": "code",
      "metadata": {
        "id": "HcWETgmj4eMF",
        "colab_type": "code",
        "colab": {}
      },
      "source": [
        "!mkdir .kaggle\n",
        "import json\n",
        "token = {\"username\":\"bgudltaldanny\",\"key\":\"65b62f1a36c14c834b4e88037463a4f8\"}\n",
        "with open('.kaggle/kaggle.json', 'w') as file:\n",
        "    json.dump(token, file)"
      ],
      "execution_count": 0,
      "outputs": []
    },
    {
      "cell_type": "code",
      "metadata": {
        "id": "QKXPhN_vv3hJ",
        "colab_type": "code",
        "outputId": "569d8213-38eb-498b-e50d-08c5b8905bfd",
        "colab": {
          "base_uri": "https://localhost:8080/",
          "height": 374
        }
      },
      "source": [
        "!cp .kaggle/kaggle.json ~/.kaggle/kaggle.json\n",
        "!chmod 600 ~/.kaggle/kaggle.json\n",
        "\n",
        "!pip uninstall -y kaggle\n",
        "!pip install --upgrade pip\n",
        "!pip install kaggle==1.5.6\n",
        "\n",
        "\n",
        "!kaggle competitions download -c home-depot-product-search-relevance\n",
        "!unzip home-depot-product-search-relevance.zip -d home-depot-product-search-relevance/\n",
        "!unzip home-depot-product-search-relevance/train.csv.zip -d home-depot-product-search-relevance/\n",
        "!unzip home-depot-product-search-relevance/test.csv.zip -d home-depot-product-search-relevance/"
      ],
      "execution_count": 3,
      "outputs": [
        {
          "output_type": "error",
          "ename": "KeyboardInterrupt",
          "evalue": "ignored",
          "traceback": [
            "\u001b[0;31m---------------------------------------------------------------------------\u001b[0m",
            "\u001b[0;31mKeyboardInterrupt\u001b[0m                         Traceback (most recent call last)",
            "\u001b[0;32m<ipython-input-3-bd9a8b5f6d1a>\u001b[0m in \u001b[0;36m<module>\u001b[0;34m()\u001b[0m\n\u001b[0;32m----> 1\u001b[0;31m \u001b[0mget_ipython\u001b[0m\u001b[0;34m(\u001b[0m\u001b[0;34m)\u001b[0m\u001b[0;34m.\u001b[0m\u001b[0msystem\u001b[0m\u001b[0;34m(\u001b[0m\u001b[0;34m'cp .kaggle/kaggle.json ~/.kaggle/kaggle.json'\u001b[0m\u001b[0;34m)\u001b[0m\u001b[0;34m\u001b[0m\u001b[0;34m\u001b[0m\u001b[0m\n\u001b[0m\u001b[1;32m      2\u001b[0m \u001b[0mget_ipython\u001b[0m\u001b[0;34m(\u001b[0m\u001b[0;34m)\u001b[0m\u001b[0;34m.\u001b[0m\u001b[0msystem\u001b[0m\u001b[0;34m(\u001b[0m\u001b[0;34m'chmod 600 ~/.kaggle/kaggle.json'\u001b[0m\u001b[0;34m)\u001b[0m\u001b[0;34m\u001b[0m\u001b[0;34m\u001b[0m\u001b[0m\n\u001b[1;32m      3\u001b[0m \u001b[0;34m\u001b[0m\u001b[0m\n\u001b[1;32m      4\u001b[0m \u001b[0mget_ipython\u001b[0m\u001b[0;34m(\u001b[0m\u001b[0;34m)\u001b[0m\u001b[0;34m.\u001b[0m\u001b[0msystem\u001b[0m\u001b[0;34m(\u001b[0m\u001b[0;34m'pip uninstall -y kaggle'\u001b[0m\u001b[0;34m)\u001b[0m\u001b[0;34m\u001b[0m\u001b[0;34m\u001b[0m\u001b[0m\n\u001b[1;32m      5\u001b[0m \u001b[0mget_ipython\u001b[0m\u001b[0;34m(\u001b[0m\u001b[0;34m)\u001b[0m\u001b[0;34m.\u001b[0m\u001b[0msystem\u001b[0m\u001b[0;34m(\u001b[0m\u001b[0;34m'pip install --upgrade pip'\u001b[0m\u001b[0;34m)\u001b[0m\u001b[0;34m\u001b[0m\u001b[0;34m\u001b[0m\u001b[0m\n",
            "\u001b[0;32m/usr/local/lib/python3.6/dist-packages/google/colab/_shell.py\u001b[0m in \u001b[0;36msystem\u001b[0;34m(self, *args, **kwargs)\u001b[0m\n\u001b[1;32m     94\u001b[0m       \u001b[0mkwargs\u001b[0m\u001b[0;34m.\u001b[0m\u001b[0mupdate\u001b[0m\u001b[0;34m(\u001b[0m\u001b[0;34m{\u001b[0m\u001b[0;34m'also_return_output'\u001b[0m\u001b[0;34m:\u001b[0m \u001b[0;32mTrue\u001b[0m\u001b[0;34m}\u001b[0m\u001b[0;34m)\u001b[0m\u001b[0;34m\u001b[0m\u001b[0;34m\u001b[0m\u001b[0m\n\u001b[1;32m     95\u001b[0m \u001b[0;34m\u001b[0m\u001b[0m\n\u001b[0;32m---> 96\u001b[0;31m     \u001b[0moutput\u001b[0m \u001b[0;34m=\u001b[0m \u001b[0m_system_commands\u001b[0m\u001b[0;34m.\u001b[0m\u001b[0m_system_compat\u001b[0m\u001b[0;34m(\u001b[0m\u001b[0mself\u001b[0m\u001b[0;34m,\u001b[0m \u001b[0;34m*\u001b[0m\u001b[0margs\u001b[0m\u001b[0;34m,\u001b[0m \u001b[0;34m**\u001b[0m\u001b[0mkwargs\u001b[0m\u001b[0;34m)\u001b[0m  \u001b[0;31m# pylint:disable=protected-access\u001b[0m\u001b[0;34m\u001b[0m\u001b[0;34m\u001b[0m\u001b[0m\n\u001b[0m\u001b[1;32m     97\u001b[0m \u001b[0;34m\u001b[0m\u001b[0m\n\u001b[1;32m     98\u001b[0m     \u001b[0;32mif\u001b[0m \u001b[0mpip_warn\u001b[0m\u001b[0;34m:\u001b[0m\u001b[0;34m\u001b[0m\u001b[0;34m\u001b[0m\u001b[0m\n",
            "\u001b[0;32m/usr/local/lib/python3.6/dist-packages/google/colab/_system_commands.py\u001b[0m in \u001b[0;36m_system_compat\u001b[0;34m(shell, cmd, also_return_output)\u001b[0m\n\u001b[1;32m    436\u001b[0m   \u001b[0;31m# stack.\u001b[0m\u001b[0;34m\u001b[0m\u001b[0;34m\u001b[0m\u001b[0;34m\u001b[0m\u001b[0m\n\u001b[1;32m    437\u001b[0m   result = _run_command(\n\u001b[0;32m--> 438\u001b[0;31m       shell.var_expand(cmd, depth=2), clear_streamed_output=False)\n\u001b[0m\u001b[1;32m    439\u001b[0m   \u001b[0mshell\u001b[0m\u001b[0;34m.\u001b[0m\u001b[0muser_ns\u001b[0m\u001b[0;34m[\u001b[0m\u001b[0;34m'_exit_code'\u001b[0m\u001b[0;34m]\u001b[0m \u001b[0;34m=\u001b[0m \u001b[0mresult\u001b[0m\u001b[0;34m.\u001b[0m\u001b[0mreturncode\u001b[0m\u001b[0;34m\u001b[0m\u001b[0;34m\u001b[0m\u001b[0m\n\u001b[1;32m    440\u001b[0m   \u001b[0;32mif\u001b[0m \u001b[0;34m-\u001b[0m\u001b[0mresult\u001b[0m\u001b[0;34m.\u001b[0m\u001b[0mreturncode\u001b[0m \u001b[0;32min\u001b[0m \u001b[0m_INTERRUPTED_SIGNALS\u001b[0m\u001b[0;34m:\u001b[0m\u001b[0;34m\u001b[0m\u001b[0;34m\u001b[0m\u001b[0m\n",
            "\u001b[0;32m/usr/local/lib/python3.6/dist-packages/google/colab/_system_commands.py\u001b[0m in \u001b[0;36m_run_command\u001b[0;34m(cmd, clear_streamed_output)\u001b[0m\n\u001b[1;32m    193\u001b[0m       \u001b[0mos\u001b[0m\u001b[0;34m.\u001b[0m\u001b[0mclose\u001b[0m\u001b[0;34m(\u001b[0m\u001b[0mchild_pty\u001b[0m\u001b[0;34m)\u001b[0m\u001b[0;34m\u001b[0m\u001b[0;34m\u001b[0m\u001b[0m\n\u001b[1;32m    194\u001b[0m \u001b[0;34m\u001b[0m\u001b[0m\n\u001b[0;32m--> 195\u001b[0;31m       \u001b[0;32mreturn\u001b[0m \u001b[0m_monitor_process\u001b[0m\u001b[0;34m(\u001b[0m\u001b[0mparent_pty\u001b[0m\u001b[0;34m,\u001b[0m \u001b[0mepoll\u001b[0m\u001b[0;34m,\u001b[0m \u001b[0mp\u001b[0m\u001b[0;34m,\u001b[0m \u001b[0mcmd\u001b[0m\u001b[0;34m,\u001b[0m \u001b[0mupdate_stdin_widget\u001b[0m\u001b[0;34m)\u001b[0m\u001b[0;34m\u001b[0m\u001b[0;34m\u001b[0m\u001b[0m\n\u001b[0m\u001b[1;32m    196\u001b[0m   \u001b[0;32mfinally\u001b[0m\u001b[0;34m:\u001b[0m\u001b[0;34m\u001b[0m\u001b[0;34m\u001b[0m\u001b[0m\n\u001b[1;32m    197\u001b[0m     \u001b[0mepoll\u001b[0m\u001b[0;34m.\u001b[0m\u001b[0mclose\u001b[0m\u001b[0;34m(\u001b[0m\u001b[0;34m)\u001b[0m\u001b[0;34m\u001b[0m\u001b[0;34m\u001b[0m\u001b[0m\n",
            "\u001b[0;32m/usr/lib/python3.6/contextlib.py\u001b[0m in \u001b[0;36m__exit__\u001b[0;34m(self, type, value, traceback)\u001b[0m\n\u001b[1;32m     86\u001b[0m         \u001b[0;32mif\u001b[0m \u001b[0mtype\u001b[0m \u001b[0;32mis\u001b[0m \u001b[0;32mNone\u001b[0m\u001b[0;34m:\u001b[0m\u001b[0;34m\u001b[0m\u001b[0;34m\u001b[0m\u001b[0m\n\u001b[1;32m     87\u001b[0m             \u001b[0;32mtry\u001b[0m\u001b[0;34m:\u001b[0m\u001b[0;34m\u001b[0m\u001b[0;34m\u001b[0m\u001b[0m\n\u001b[0;32m---> 88\u001b[0;31m                 \u001b[0mnext\u001b[0m\u001b[0;34m(\u001b[0m\u001b[0mself\u001b[0m\u001b[0;34m.\u001b[0m\u001b[0mgen\u001b[0m\u001b[0;34m)\u001b[0m\u001b[0;34m\u001b[0m\u001b[0;34m\u001b[0m\u001b[0m\n\u001b[0m\u001b[1;32m     89\u001b[0m             \u001b[0;32mexcept\u001b[0m \u001b[0mStopIteration\u001b[0m\u001b[0;34m:\u001b[0m\u001b[0;34m\u001b[0m\u001b[0;34m\u001b[0m\u001b[0m\n\u001b[1;32m     90\u001b[0m                 \u001b[0;32mreturn\u001b[0m \u001b[0;32mFalse\u001b[0m\u001b[0;34m\u001b[0m\u001b[0;34m\u001b[0m\u001b[0m\n",
            "\u001b[0;32m/usr/local/lib/python3.6/dist-packages/google/colab/_system_commands.py\u001b[0m in \u001b[0;36m_display_stdin_widget\u001b[0;34m(delay_millis)\u001b[0m\n\u001b[1;32m    353\u001b[0m \u001b[0;34m\u001b[0m\u001b[0m\n\u001b[1;32m    354\u001b[0m   \u001b[0mhide_args\u001b[0m \u001b[0;34m=\u001b[0m \u001b[0;34m[\u001b[0m\u001b[0;34m'cell_remove_stdin'\u001b[0m\u001b[0;34m,\u001b[0m \u001b[0;34m{\u001b[0m\u001b[0;34m}\u001b[0m\u001b[0;34m]\u001b[0m\u001b[0;34m\u001b[0m\u001b[0;34m\u001b[0m\u001b[0m\n\u001b[0;32m--> 355\u001b[0;31m   \u001b[0m_message\u001b[0m\u001b[0;34m.\u001b[0m\u001b[0mblocking_request\u001b[0m\u001b[0;34m(\u001b[0m\u001b[0;34m*\u001b[0m\u001b[0mhide_args\u001b[0m\u001b[0;34m,\u001b[0m \u001b[0mparent\u001b[0m\u001b[0;34m=\u001b[0m\u001b[0mshell\u001b[0m\u001b[0;34m.\u001b[0m\u001b[0mparent_header\u001b[0m\u001b[0;34m)\u001b[0m\u001b[0;34m\u001b[0m\u001b[0;34m\u001b[0m\u001b[0m\n\u001b[0m\u001b[1;32m    356\u001b[0m \u001b[0;34m\u001b[0m\u001b[0m\n\u001b[1;32m    357\u001b[0m \u001b[0;34m\u001b[0m\u001b[0m\n",
            "\u001b[0;32m/usr/local/lib/python3.6/dist-packages/google/colab/_message.py\u001b[0m in \u001b[0;36mblocking_request\u001b[0;34m(request_type, request, timeout_sec, parent)\u001b[0m\n\u001b[1;32m    169\u001b[0m   \u001b[0;31m# unique.\u001b[0m\u001b[0;34m\u001b[0m\u001b[0;34m\u001b[0m\u001b[0;34m\u001b[0m\u001b[0m\n\u001b[1;32m    170\u001b[0m   \u001b[0mrequest_id\u001b[0m \u001b[0;34m=\u001b[0m \u001b[0msend_request\u001b[0m\u001b[0;34m(\u001b[0m\u001b[0mrequest_type\u001b[0m\u001b[0;34m,\u001b[0m \u001b[0mrequest\u001b[0m\u001b[0;34m,\u001b[0m \u001b[0mparent\u001b[0m\u001b[0;34m=\u001b[0m\u001b[0mparent\u001b[0m\u001b[0;34m)\u001b[0m\u001b[0;34m\u001b[0m\u001b[0;34m\u001b[0m\u001b[0m\n\u001b[0;32m--> 171\u001b[0;31m   \u001b[0;32mreturn\u001b[0m \u001b[0mread_reply_from_input\u001b[0m\u001b[0;34m(\u001b[0m\u001b[0mrequest_id\u001b[0m\u001b[0;34m,\u001b[0m \u001b[0mtimeout_sec\u001b[0m\u001b[0;34m)\u001b[0m\u001b[0;34m\u001b[0m\u001b[0;34m\u001b[0m\u001b[0m\n\u001b[0m",
            "\u001b[0;32m/usr/local/lib/python3.6/dist-packages/google/colab/_message.py\u001b[0m in \u001b[0;36mread_reply_from_input\u001b[0;34m(message_id, timeout_sec)\u001b[0m\n\u001b[1;32m     99\u001b[0m     \u001b[0mreply\u001b[0m \u001b[0;34m=\u001b[0m \u001b[0m_read_next_input_message\u001b[0m\u001b[0;34m(\u001b[0m\u001b[0;34m)\u001b[0m\u001b[0;34m\u001b[0m\u001b[0;34m\u001b[0m\u001b[0m\n\u001b[1;32m    100\u001b[0m     \u001b[0;32mif\u001b[0m \u001b[0mreply\u001b[0m \u001b[0;34m==\u001b[0m \u001b[0m_NOT_READY\u001b[0m \u001b[0;32mor\u001b[0m \u001b[0;32mnot\u001b[0m \u001b[0misinstance\u001b[0m\u001b[0;34m(\u001b[0m\u001b[0mreply\u001b[0m\u001b[0;34m,\u001b[0m \u001b[0mdict\u001b[0m\u001b[0;34m)\u001b[0m\u001b[0;34m:\u001b[0m\u001b[0;34m\u001b[0m\u001b[0;34m\u001b[0m\u001b[0m\n\u001b[0;32m--> 101\u001b[0;31m       \u001b[0mtime\u001b[0m\u001b[0;34m.\u001b[0m\u001b[0msleep\u001b[0m\u001b[0;34m(\u001b[0m\u001b[0;36m0.025\u001b[0m\u001b[0;34m)\u001b[0m\u001b[0;34m\u001b[0m\u001b[0;34m\u001b[0m\u001b[0m\n\u001b[0m\u001b[1;32m    102\u001b[0m       \u001b[0;32mcontinue\u001b[0m\u001b[0;34m\u001b[0m\u001b[0;34m\u001b[0m\u001b[0m\n\u001b[1;32m    103\u001b[0m     if (reply.get('type') == 'colab_reply' and\n",
            "\u001b[0;31mKeyboardInterrupt\u001b[0m: "
          ]
        }
      ]
    },
    {
      "cell_type": "code",
      "metadata": {
        "id": "3r10iXLp-DFP",
        "colab_type": "code",
        "colab": {}
      },
      "source": [
        "import pandas as pd\n",
        "import numpy as np\n",
        "import math\n",
        "import tensorflow as tf\n",
        "from keras.utils import Sequence\n",
        "from keras.models import Model\n",
        "from keras.layers import Input, Flatten, Dense, Dropout,Conv1D, MaxPool1D,Concatenate, LSTM, Reshape, CuDNNLSTM\n",
        "from keras.optimizers import RMSprop\n",
        "import keras.backend as K\n",
        "from sklearn.pipeline import Pipeline,FeatureUnion,make_pipeline\n",
        "from sklearn.preprocessing import FunctionTransformer,KBinsDiscretizer,OneHotEncoder\n",
        "from sklearn.linear_model import LogisticRegression,LinearRegression\n",
        "from sklearn.model_selection import train_test_split, cross_val_score,cross_val_predict,cross_validate\n",
        "from sklearn.feature_extraction.text import TfidfVectorizer, CountVectorizer,TfidfTransformer\n",
        "from sklearn.neighbors import KNeighborsRegressor\n",
        "from sklearn.ensemble import RandomForestRegressor\n"
      ],
      "execution_count": 0,
      "outputs": []
    },
    {
      "cell_type": "code",
      "metadata": {
        "id": "kaItXIaqBPac",
        "colab_type": "code",
        "colab": {}
      },
      "source": [
        "path='./home-depot-product-search-relevance'\n",
        "train=pd.read_csv(path+'/train.csv',encoding=\"Latin-1\")"
      ],
      "execution_count": 0,
      "outputs": []
    },
    {
      "cell_type": "code",
      "metadata": {
        "id": "kzljXWXRFTQg",
        "colab_type": "code",
        "outputId": "b73633ac-7bfb-4a10-e4e3-d7c6f7996388",
        "colab": {
          "base_uri": "https://localhost:8080/",
          "height": 204
        }
      },
      "source": [
        "train.head()"
      ],
      "execution_count": 6,
      "outputs": [
        {
          "output_type": "execute_result",
          "data": {
            "text/html": [
              "<div>\n",
              "<style scoped>\n",
              "    .dataframe tbody tr th:only-of-type {\n",
              "        vertical-align: middle;\n",
              "    }\n",
              "\n",
              "    .dataframe tbody tr th {\n",
              "        vertical-align: top;\n",
              "    }\n",
              "\n",
              "    .dataframe thead th {\n",
              "        text-align: right;\n",
              "    }\n",
              "</style>\n",
              "<table border=\"1\" class=\"dataframe\">\n",
              "  <thead>\n",
              "    <tr style=\"text-align: right;\">\n",
              "      <th></th>\n",
              "      <th>id</th>\n",
              "      <th>product_uid</th>\n",
              "      <th>product_title</th>\n",
              "      <th>search_term</th>\n",
              "      <th>relevance</th>\n",
              "    </tr>\n",
              "  </thead>\n",
              "  <tbody>\n",
              "    <tr>\n",
              "      <th>0</th>\n",
              "      <td>2</td>\n",
              "      <td>100001</td>\n",
              "      <td>Simpson Strong-Tie 12-Gauge Angle</td>\n",
              "      <td>angle bracket</td>\n",
              "      <td>3.00</td>\n",
              "    </tr>\n",
              "    <tr>\n",
              "      <th>1</th>\n",
              "      <td>3</td>\n",
              "      <td>100001</td>\n",
              "      <td>Simpson Strong-Tie 12-Gauge Angle</td>\n",
              "      <td>l bracket</td>\n",
              "      <td>2.50</td>\n",
              "    </tr>\n",
              "    <tr>\n",
              "      <th>2</th>\n",
              "      <td>9</td>\n",
              "      <td>100002</td>\n",
              "      <td>BEHR Premium Textured DeckOver 1-gal. #SC-141 ...</td>\n",
              "      <td>deck over</td>\n",
              "      <td>3.00</td>\n",
              "    </tr>\n",
              "    <tr>\n",
              "      <th>3</th>\n",
              "      <td>16</td>\n",
              "      <td>100005</td>\n",
              "      <td>Delta Vero 1-Handle Shower Only Faucet Trim Ki...</td>\n",
              "      <td>rain shower head</td>\n",
              "      <td>2.33</td>\n",
              "    </tr>\n",
              "    <tr>\n",
              "      <th>4</th>\n",
              "      <td>17</td>\n",
              "      <td>100005</td>\n",
              "      <td>Delta Vero 1-Handle Shower Only Faucet Trim Ki...</td>\n",
              "      <td>shower only faucet</td>\n",
              "      <td>2.67</td>\n",
              "    </tr>\n",
              "  </tbody>\n",
              "</table>\n",
              "</div>"
            ],
            "text/plain": [
              "   id  product_uid  ...         search_term relevance\n",
              "0   2       100001  ...       angle bracket      3.00\n",
              "1   3       100001  ...           l bracket      2.50\n",
              "2   9       100002  ...           deck over      3.00\n",
              "3  16       100005  ...    rain shower head      2.33\n",
              "4  17       100005  ...  shower only faucet      2.67\n",
              "\n",
              "[5 rows x 5 columns]"
            ]
          },
          "metadata": {
            "tags": []
          },
          "execution_count": 6
        }
      ]
    },
    {
      "cell_type": "code",
      "metadata": {
        "id": "6kb-qaGVCa32",
        "colab_type": "code",
        "colab": {}
      },
      "source": [
        "max_product_title_len=train.product_title.map(lambda x: len(x)).max()\n",
        "max_search_term=train.search_term.map(lambda x: len(x)).max()\n",
        "max_input_len=max(max_product_title_len,max_search_term)"
      ],
      "execution_count": 0,
      "outputs": []
    },
    {
      "cell_type": "code",
      "metadata": {
        "id": "ku4yaaZ0BmjY",
        "colab_type": "code",
        "colab": {}
      },
      "source": [
        "class MyCharGenerator(Sequence):\n",
        "  def __init__(self,padding,df,batch_size=32,char_value=0):\n",
        "    self.padding=padding\n",
        "    self.char_value=char_value\n",
        "    self.df=df\n",
        "    self.batch_size=batch_size\n",
        "\n",
        "\n",
        "  def __iter__(self):\n",
        "    while(True):\n",
        "      X1 = []\n",
        "      X2 = []\n",
        "      y = []\n",
        "\n",
        "      for index,row in self.df.iterrows():\n",
        "        y.append((row['relevance'] - 1) / 2)\n",
        "        st_list= [ord(c) for c in list(row['search_term'])]\n",
        "        pt_list=[ord(c) for c in list(row['product_title'])]\n",
        "        #X1.append(np.pad(st_list,(0,self.padding-len(st_list))))\n",
        "        #X2.append(np.pad(pt_list,(0,self.padding-len(pt_list))))\n",
        "        X1.append(np.reshape(np.pad(st_list,(0,self.padding-len(st_list))),(147,1)))\n",
        "        X2.append(np.reshape(np.pad(pt_list,(0,self.padding-len(pt_list))),(147,1)))\n",
        "        # assume there's one document per line, tokens separated by whitespace\n",
        "        if (index + 1) % self.batch_size == 0:\n",
        "          y=np.array(y)\n",
        "\n",
        "          yield (np.array([X1,X2]),y)\n",
        "          X1 = []\n",
        "          X2 = []\n",
        "          y=[]\n",
        "\n",
        "      y=np.array(y)\n",
        "      if(len(y) > 0):\n",
        "        yield np.array([X1,X2]),y\n",
        "\n",
        "\n",
        "def new_loss(y_actual,y_predicted):\n",
        "  delta=y_actual*0.15\n",
        "  diff=K.abs(y_actual-y_predicted)\n",
        "  ans = K.switch(K.less_equal(diff,delta), lambda: K.square(diff),lambda:1.0- diff)\n",
        "  return ans"
      ],
      "execution_count": 0,
      "outputs": []
    },
    {
      "cell_type": "code",
      "metadata": {
        "id": "yB5rXmhpzU-F",
        "colab_type": "code",
        "colab": {}
      },
      "source": [
        "class MyWordGenerator(Sequence):\n",
        "  def __init__(self,padding,df,batch_size=32,char_value=0):\n",
        "    self.padding=padding\n",
        "    self.char_value=char_value\n",
        "    self.df=df\n",
        "    self.batch_size=batch_size\n",
        "\n",
        "\n",
        "  def __iter__(self):\n",
        "    while(True):\n",
        "      X1 = []\n",
        "      X2 = []\n",
        "      y = []\n",
        "\n",
        "      for index,row in self.df.iterrows():\n",
        "        y.append((row['relevance'] - 1) / 2)\n",
        "        st_list= [ord(c) for c in list(row['search_term'])]\n",
        "        pt_list=[ord(c) for c in list(row['product_title'])]\n",
        "        #X1.append(np.pad(st_list,(0,self.padding-len(st_list))))\n",
        "        #X2.append(np.pad(pt_list,(0,self.padding-len(pt_list))))\n",
        "        X1.append(np.reshape(np.pad(st_list,(0,self.padding-len(st_list))),(147,1)))\n",
        "        X2.append(np.reshape(np.pad(pt_list,(0,self.padding-len(pt_list))),(147,1)))\n",
        "        # assume there's one document per line, tokens separated by whitespace\n",
        "        if (index + 1) % self.batch_size == 0:\n",
        "          y=np.array(y)\n",
        "\n",
        "          yield (np.array([X1,X2]),y)\n",
        "          X1 = []\n",
        "          X2 = []\n",
        "          y=[]\n",
        "\n",
        "      y=np.array(y)\n",
        "      if(len(y) > 0):\n",
        "        yield np.array([X1,X2]),y\n",
        "\n",
        "\n",
        "def new_loss(y_actual,y_predicted):\n",
        "  delta=y_actual*0.15\n",
        "  diff=K.abs(y_actual-y_predicted)\n",
        "  ans = K.switch(K.less_equal(diff,delta), lambda: K.square(diff),lambda:1.0- diff)\n",
        "  return ans"
      ],
      "execution_count": 0,
      "outputs": []
    },
    {
      "cell_type": "code",
      "metadata": {
        "id": "TmViaexjMFqX",
        "colab_type": "code",
        "colab": {}
      },
      "source": [
        "myGen=MyCharGenerator(padding=147,df=train,batch_size=1)\n",
        "it = iter(myGen)\n",
        "\n",
        "X1 = []\n",
        "X2 = []\n",
        "Y = []\n",
        "for time in range(len(train)):\n",
        "  [X1_gen,X2_gen],y_gen = next(it)\n",
        "  X1.append([X for X in X1_gen[0]])\n",
        "  X2.append([X for X in X2_gen[0]])\n",
        "  Y.append(y_gen[0])\n",
        "\n",
        "X1_train,X1_test,X2_train,X2_test,y_train,y_test = train_test_split(X1,X2,Y,test_size=0.2)\n",
        "\n",
        "X1_train = np.array(X1_train)\n",
        "X2_train = np.array(X2_train)\n",
        "y_train = np.array(y_train)\n",
        "X1_test = np.array(X1_test)\n",
        "X2_test = np.array(X2_test)\n",
        "y_test = np.array(y_test)\n"
      ],
      "execution_count": 0,
      "outputs": []
    },
    {
      "cell_type": "code",
      "metadata": {
        "id": "OeiZtPowPSYF",
        "colab_type": "code",
        "colab": {}
      },
      "source": [
        "def network(n_fetures):\n",
        "  inp=Input(shape=(n_fetures,1))\n",
        "  x = CuDNNLSTM(max_input_len)(inp)\n",
        "  x = Reshape((max_input_len,1))(x)\n",
        "  x=Conv1D(filters=32,kernel_size=10,activation='relu')(x)\n",
        "  x=MaxPool1D()(x)\n",
        "  x=Conv1D(filters=64,kernel_size=10,activation='relu')(x)\n",
        "  x=MaxPool1D()(x)\n",
        "  x=Conv1D(filters=128,kernel_size=10,activation='relu')(x)\n",
        "  x=Flatten()(x)\n",
        "  x=Dense(128,activation='relu')(x)\n",
        "  model= Model(inp,x)\n",
        "\n",
        "  search_term_input=Input(shape=(n_fetures,1),name='inp1')\n",
        "  product_title_input=Input(shape=(n_fetures,1),name='inp2')\n",
        "\n",
        "  search_term_encoded=model(search_term_input)\n",
        "  product_title_encoded=model(product_title_input)\n",
        "\n",
        "\n",
        "  x_connected=Concatenate()([search_term_encoded,product_title_encoded])\n",
        "  x_connected=Dense(1,activation='sigmoid')(x_connected)\n",
        "\n",
        "  connected_model=Model(inputs=[search_term_input,product_title_input],output=x_connected)\n",
        "  \n",
        "\n",
        "  return connected_model\n"
      ],
      "execution_count": 0,
      "outputs": []
    },
    {
      "cell_type": "code",
      "metadata": {
        "id": "1UW61vXdshpw",
        "colab_type": "code",
        "outputId": "6b61f100-21a8-4dc5-a5ff-dcde67804bcd",
        "colab": {
          "base_uri": "https://localhost:8080/",
          "height": 374
        }
      },
      "source": [
        "siames_model=network(max_input_len)\n",
        "siames_model.summary()\n",
        "siames_model.compile(loss=new_loss ,optimizer='adam',metrics=['mae','accuracy'])"
      ],
      "execution_count": 306,
      "outputs": [
        {
          "output_type": "stream",
          "text": [
            "Model: \"model_84\"\n",
            "__________________________________________________________________________________________________\n",
            "Layer (type)                    Output Shape         Param #     Connected to                     \n",
            "==================================================================================================\n",
            "inp1 (InputLayer)               (None, 147, 1)       0                                            \n",
            "__________________________________________________________________________________________________\n",
            "inp2 (InputLayer)               (None, 147, 1)       0                                            \n",
            "__________________________________________________________________________________________________\n",
            "model_83 (Model)                (None, 128)          535336      inp1[0][0]                       \n",
            "                                                                 inp2[0][0]                       \n",
            "__________________________________________________________________________________________________\n",
            "concatenate_38 (Concatenate)    (None, 256)          0           model_83[1][0]                   \n",
            "                                                                 model_83[2][0]                   \n",
            "__________________________________________________________________________________________________\n",
            "dense_79 (Dense)                (None, 1)            257         concatenate_38[0][0]             \n",
            "==================================================================================================\n",
            "Total params: 535,593\n",
            "Trainable params: 535,593\n",
            "Non-trainable params: 0\n",
            "__________________________________________________________________________________________________\n"
          ],
          "name": "stdout"
        },
        {
          "output_type": "stream",
          "text": [
            "/usr/local/lib/python3.6/dist-packages/ipykernel_launcher.py:24: UserWarning: Update your `Model` call to the Keras 2 API: `Model(inputs=[<tf.Tenso..., outputs=Tensor(\"de...)`\n"
          ],
          "name": "stderr"
        }
      ]
    },
    {
      "cell_type": "code",
      "metadata": {
        "id": "b1J12Mt37hMd",
        "colab_type": "code",
        "outputId": "bb3cf684-46e5-4625-bfdf-4c7c2a3af010",
        "colab": {
          "base_uri": "https://localhost:8080/",
          "height": 136
        }
      },
      "source": [
        "model_hist = siames_model.fit([X1_train,X2_train],y_train,verbose=2,epochs=3,batch_size=20,validation_data=([X1_test,X2_test],y_test))"
      ],
      "execution_count": 307,
      "outputs": [
        {
          "output_type": "stream",
          "text": [
            "Train on 59253 samples, validate on 14814 samples\n",
            "Epoch 1/3\n",
            " - 69s - loss: 0.2817 - mean_absolute_error: 0.6899 - acc: 0.0282 - val_loss: 0.2796 - val_mean_absolute_error: 0.6908 - val_acc: 0.0296\n",
            "Epoch 2/3\n",
            " - 65s - loss: 0.2810 - mean_absolute_error: 0.6908 - acc: 0.0281 - val_loss: 0.2796 - val_mean_absolute_error: 0.6908 - val_acc: 0.0296\n",
            "Epoch 3/3\n",
            " - 65s - loss: 0.2810 - mean_absolute_error: 0.6908 - acc: 0.0281 - val_loss: 0.2796 - val_mean_absolute_error: 0.6908 - val_acc: 0.0296\n"
          ],
          "name": "stdout"
        }
      ]
    },
    {
      "cell_type": "code",
      "metadata": {
        "id": "3x2RcIqjAXQP",
        "colab_type": "code",
        "colab": {
          "base_uri": "https://localhost:8080/",
          "height": 51
        },
        "outputId": "5c99d271-978e-423e-c0f8-f34766538f1b"
      },
      "source": [
        "Naive_X = []\n",
        "Naive_Y = []\n",
        "for index,row in train.iterrows():\n",
        "  #print(self.counter)\n",
        "  Naive_Y.append(row['relevance'])\n",
        "  Naive_X.append(''.join(list(row['search_term'])) + ' ' +''.join(list(row['product_title'])))\n",
        "\n",
        "X_naive_train,X_naive_test,y_naive_train,y_naive_test = train_test_split(Naive_X,Naive_Y,test_size=0.2)\n",
        "\n",
        "pipeline = Pipeline([\n",
        "    ('vect', CountVectorizer(stop_words=[' '], max_df=0.5, max_features=100,lowercase=False,analyzer='char')),\n",
        "    #('tfidf', TfidfTransformer(use_idf=True, norm='l2')),\n",
        "    ('clf', LinearRegression()),\n",
        "])\n",
        "naive_model = cross_validate(pipeline, X_naive_train, y_naive_train, cv=5,return_estimator=True)\n",
        "\n",
        "predictions = naive_model['estimator'][4].predict(X_naive_test)\n",
        "mae = np.absolute((np.array(y_naive_test)-np.array(predictions))).mean()\n",
        "rmse = math.sqrt(((np.array(y_naive_test)-np.array(predictions))**2).mean())\n",
        "print(\"MAE: %.3f\" %mae)\n",
        "print(\"RMSE: %.3f\" %rmse)"
      ],
      "execution_count": 301,
      "outputs": [
        {
          "output_type": "stream",
          "text": [
            "MAE: 0.436\n",
            "RMSE: 0.533\n"
          ],
          "name": "stdout"
        }
      ]
    },
    {
      "cell_type": "code",
      "metadata": {
        "id": "LJkyvr0ndy-D",
        "colab_type": "code",
        "colab": {
          "base_uri": "https://localhost:8080/",
          "height": 765
        },
        "outputId": "39ff5a93-d68a-4587-8934-adba430364cb"
      },
      "source": [
        "\n",
        "\n",
        "siames_model_ML=network(max_input_len)\n",
        "siames_model_ML.layers.pop(-1)\n",
        "siames_model_ML.summary()\n",
        "siames_model_ML.compile(loss=new_loss ,optimizer='SGD',metrics=['mae','accuracy'])\n",
        "model_hist_ml = siames_model_ML.fit([X1_train,X2_train],y_train,verbose=2,epochs=10,batch_size=20,validation_data=([X1_test,X2_test],y_test))\n",
        "\n",
        "ml_predictions_train = siames_model_ML.predict([X1_train,X2_train])\n",
        "ml_predictions_test = siames_model_ML.predict([X1_test,X2_test])\n",
        "\n",
        "ml_knn_model = KNeighborsRegressor()\n",
        "ml_knn_model.fit(ml_predictions_train,y_train)\n",
        "ml_knn_predictions = ml_knn_model.predict(ml_predictions_test)\n",
        "\n",
        "ml_rf_model = RandomForestRegressor()\n",
        "ml_rf_model.fit(ml_predictions_train,y_train)\n",
        "ml_rf_predictions = ml_rf_model.predict(ml_predictions_test)\n",
        "\n",
        "\n",
        "mae_knn = np.absolute((np.array(y_naive_test)-np.array(ml_knn_predictions))).mean()\n",
        "rmse_knn = math.sqrt(((np.array(y_naive_test)-np.array(ml_knn_predictions))**2).mean())\n",
        "\n",
        "mae_rf = np.absolute((np.array(y_naive_test)-np.array(ml_rf_predictions))).mean()\n",
        "rmse_rf = math.sqrt(((np.array(y_naive_test)-np.array(ml_rf_predictions))**2).mean())\n",
        "\n",
        "print(\"KNN MAE: %.3f\" %mae_knn)\n",
        "print(\"KNN RMSE: %.3f\" %rmse_knn)\n",
        "\n",
        "print(\"RANDOM MAE: %.3f\" %mae_rf)\n",
        "print(\"RANDOM RMSE: %.3f\" %rmse_rf)\n"
      ],
      "execution_count": 302,
      "outputs": [
        {
          "output_type": "stream",
          "text": [
            "/usr/local/lib/python3.6/dist-packages/ipykernel_launcher.py:24: UserWarning: Update your `Model` call to the Keras 2 API: `Model(inputs=[<tf.Tenso..., outputs=Tensor(\"de...)`\n"
          ],
          "name": "stderr"
        },
        {
          "output_type": "stream",
          "text": [
            "Model: \"model_80\"\n",
            "__________________________________________________________________________________________________\n",
            "Layer (type)                    Output Shape         Param #     Connected to                     \n",
            "==================================================================================================\n",
            "inp1 (InputLayer)               (None, 147, 1)       0                                            \n",
            "__________________________________________________________________________________________________\n",
            "inp2 (InputLayer)               (None, 147, 1)       0                                            \n",
            "__________________________________________________________________________________________________\n",
            "model_79 (Model)                (None, 128)          558428      inp1[0][0]                       \n",
            "                                                                 inp2[0][0]                       \n",
            "__________________________________________________________________________________________________\n",
            "concatenate_36 (Concatenate)    (None, 256)          0           model_79[1][0]                   \n",
            "                                                                 model_79[2][0]                   \n",
            "==================================================================================================\n",
            "Total params: 558,428\n",
            "Trainable params: 558,428\n",
            "Non-trainable params: 0\n",
            "__________________________________________________________________________________________________\n",
            "Train on 59253 samples, validate on 14814 samples\n",
            "Epoch 1/10\n",
            " - 66s - loss: 0.3223 - mean_absolute_error: 0.6720 - acc: 0.0281 - val_loss: 0.3093 - val_mean_absolute_error: 0.6907 - val_acc: 0.0296\n",
            "Epoch 2/10\n",
            " - 63s - loss: 0.3092 - mean_absolute_error: 0.6908 - acc: 0.0281 - val_loss: 0.3092 - val_mean_absolute_error: 0.6908 - val_acc: 0.0296\n",
            "Epoch 3/10\n",
            " - 63s - loss: 0.3092 - mean_absolute_error: 0.6908 - acc: 0.0281 - val_loss: 0.3092 - val_mean_absolute_error: 0.6908 - val_acc: 0.0296\n",
            "Epoch 4/10\n",
            " - 63s - loss: 0.3092 - mean_absolute_error: 0.6908 - acc: 0.0281 - val_loss: 0.3092 - val_mean_absolute_error: 0.6908 - val_acc: 0.0296\n",
            "Epoch 5/10\n",
            " - 63s - loss: 0.3092 - mean_absolute_error: 0.6908 - acc: 0.0281 - val_loss: 0.3092 - val_mean_absolute_error: 0.6908 - val_acc: 0.0296\n",
            "Epoch 6/10\n",
            " - 63s - loss: 0.3092 - mean_absolute_error: 0.6908 - acc: 0.0281 - val_loss: 0.3092 - val_mean_absolute_error: 0.6908 - val_acc: 0.0296\n",
            "Epoch 7/10\n",
            " - 63s - loss: 0.3092 - mean_absolute_error: 0.6908 - acc: 0.0281 - val_loss: 0.3092 - val_mean_absolute_error: 0.6908 - val_acc: 0.0296\n",
            "Epoch 8/10\n",
            " - 63s - loss: 0.3092 - mean_absolute_error: 0.6908 - acc: 0.0281 - val_loss: 0.3092 - val_mean_absolute_error: 0.6908 - val_acc: 0.0296\n",
            "Epoch 9/10\n",
            " - 63s - loss: 0.3092 - mean_absolute_error: 0.6908 - acc: 0.0281 - val_loss: 0.3092 - val_mean_absolute_error: 0.6908 - val_acc: 0.0296\n",
            "Epoch 10/10\n",
            " - 63s - loss: 0.3092 - mean_absolute_error: 0.6908 - acc: 0.0281 - val_loss: 0.3092 - val_mean_absolute_error: 0.6908 - val_acc: 0.0296\n",
            "KNN MAE: 1.614\n",
            "KNN RMSE: 1.702\n",
            "RANDOM MAE: 1.691\n",
            "RANDOM RMSE: 1.774\n"
          ],
          "name": "stdout"
        }
      ]
    }
  ]
}